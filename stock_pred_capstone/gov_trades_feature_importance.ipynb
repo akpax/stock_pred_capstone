{
 "cells": [
  {
   "cell_type": "markdown",
   "id": "5799e4ad",
   "metadata": {},
   "source": [
    "# Augment Trades Dataset\n",
    "* Add stock types and country (scraped from finviz)\n",
    "* Engineer features that are based on individual senators trading records\n",
    "* Calculate target"
   ]
  },
  {
   "cell_type": "code",
   "execution_count": 44,
   "id": "c52cf02c",
   "metadata": {},
   "outputs": [],
   "source": [
    "import pandas as pd\n",
    "import matplotlib.pyplot as plt\n",
    "import matplotlib.ticker as tick\n",
    "import matplotlib.dates as mdates\n",
    "%matplotlib inline\n"
   ]
  },
  {
   "cell_type": "code",
   "execution_count": 45,
   "id": "c0173a5a",
   "metadata": {},
   "outputs": [
    {
     "name": "stdout",
     "output_type": "stream",
     "text": [
      "<class 'pandas.core.frame.DataFrame'>\n",
      "RangeIndex: 2751 entries, 0 to 2750\n",
      "Data columns (total 5 columns):\n",
      " #   Column    Non-Null Count  Dtype \n",
      "---  ------    --------------  ----- \n",
      " 0   ticker    2751 non-null   object\n",
      " 1   sector    2751 non-null   object\n",
      " 2   industry  2751 non-null   object\n",
      " 3   country   2751 non-null   object\n",
      " 4   Index     2751 non-null   object\n",
      "dtypes: object(5)\n",
      "memory usage: 107.6+ KB\n"
     ]
    }
   ],
   "source": [
    "#pull finviz data\n",
    "finviz_raw_df = pd.read_csv(\"data/finviz_4-12-23.csv\", header=0)\n",
    "\n",
    "cols_to_merge = [\"ticker\", \"sector\", \"industry\", \"country\", \"Index\"]  #merge only these columns (other features contain price info which results in target leakage) \n",
    "\n",
    "fundamentals_df = finviz_raw_df[cols_to_merge]\n",
    "fundamentals_df.info()"
   ]
  },
  {
   "cell_type": "code",
   "execution_count": 46,
   "id": "7d916a0d",
   "metadata": {},
   "outputs": [],
   "source": [
    "#merge fundamentals to congress trades"
   ]
  },
  {
   "cell_type": "code",
   "execution_count": 47,
   "id": "054866e3",
   "metadata": {},
   "outputs": [
    {
     "name": "stdout",
     "output_type": "stream",
     "text": [
      "       Unnamed: 0  ReportDate TransactionDate Ticker     Representative  \\\n",
      "0               0  2020-04-16      2020-03-18   COTY   Gilbert Cisneros   \n",
      "1               1  2020-01-10      2019-12-06   COTY   Gilbert Cisneros   \n",
      "2               2  2019-09-11      2019-08-14   COTY   Gilbert Cisneros   \n",
      "3               3  2019-09-16      2019-08-13   COTY      Dean Phillips   \n",
      "4               4  2019-04-16      2019-03-14   COTY   Gilbert Cisneros   \n",
      "...           ...         ...             ...    ...                ...   \n",
      "22615       22615  2019-03-08      2019-02-15     BR   Gilbert Cisneros   \n",
      "22616       22616  2018-10-30      2018-10-11     BR       Lois Frankel   \n",
      "22617       22617  2018-08-24      2018-07-18     BR       Lois Frankel   \n",
      "22618       22618  2018-04-27      2018-03-21     BR       Lois Frankel   \n",
      "22619       22619  2020-12-08      2020-11-04    ACM          Susie Lee   \n",
      "\n",
      "      Transaction  Amount            House           Range  \n",
      "0            Sale  1001.0  Representatives  $1,001-$15,000  \n",
      "1        Purchase  1001.0  Representatives  $1,001-$15,000  \n",
      "2            Sale  1001.0  Representatives  $1,001-$15,000  \n",
      "3            Sale  1001.0  Representatives  $1,001-$15,000  \n",
      "4        Purchase  1001.0  Representatives  $1,001-$15,000  \n",
      "...           ...     ...              ...             ...  \n",
      "22615    Purchase  1001.0  Representatives  $1,001-$15,000  \n",
      "22616        Sale  1001.0  Representatives  $1,001-$15,000  \n",
      "22617        Sale  1001.0  Representatives  $1,001-$15,000  \n",
      "22618        Sale  1001.0  Representatives  $1,001-$15,000  \n",
      "22619        Sale  1001.0  Representatives  $1,001-$15,000  \n",
      "\n",
      "[22620 rows x 9 columns]\n"
     ]
    }
   ],
   "source": [
    "congress_trades = pd.read_csv(\"data/congress_trades_all.csv\")\n",
    "print(congress_trades)"
   ]
  },
  {
   "cell_type": "code",
   "execution_count": 48,
   "id": "4c05f080",
   "metadata": {},
   "outputs": [],
   "source": [
    "##get rid of Unnamed index \n",
    "#congress_trades.drop(congress_trades.columns[0],axis=1,inplace=True)\n",
    "#congress_trades.to_csv(\"congres_trades_all.csv\", index=False)"
   ]
  },
  {
   "cell_type": "code",
   "execution_count": 49,
   "id": "0d306a9a",
   "metadata": {},
   "outputs": [
    {
     "name": "stderr",
     "output_type": "stream",
     "text": [
      "/var/folders/hn/vdq8ffhj0zq9blr74w80pr180000gn/T/ipykernel_5154/2419417019.py:1: SettingWithCopyWarning: \n",
      "A value is trying to be set on a copy of a slice from a DataFrame\n",
      "\n",
      "See the caveats in the documentation: https://pandas.pydata.org/pandas-docs/stable/user_guide/indexing.html#returning-a-view-versus-a-copy\n",
      "  fundamentals_df.rename(columns={\"ticker\": \"Ticker\"}, inplace=True)\n"
     ]
    },
    {
     "data": {
      "text/html": [
       "<div>\n",
       "<style scoped>\n",
       "    .dataframe tbody tr th:only-of-type {\n",
       "        vertical-align: middle;\n",
       "    }\n",
       "\n",
       "    .dataframe tbody tr th {\n",
       "        vertical-align: top;\n",
       "    }\n",
       "\n",
       "    .dataframe thead th {\n",
       "        text-align: right;\n",
       "    }\n",
       "</style>\n",
       "<table border=\"1\" class=\"dataframe\">\n",
       "  <thead>\n",
       "    <tr style=\"text-align: right;\">\n",
       "      <th></th>\n",
       "      <th>Unnamed: 0</th>\n",
       "      <th>ReportDate</th>\n",
       "      <th>TransactionDate</th>\n",
       "      <th>Ticker</th>\n",
       "      <th>Representative</th>\n",
       "      <th>Transaction</th>\n",
       "      <th>Amount</th>\n",
       "      <th>House</th>\n",
       "      <th>Range</th>\n",
       "      <th>sector</th>\n",
       "      <th>industry</th>\n",
       "      <th>country</th>\n",
       "      <th>Index</th>\n",
       "    </tr>\n",
       "  </thead>\n",
       "  <tbody>\n",
       "    <tr>\n",
       "      <th>0</th>\n",
       "      <td>0</td>\n",
       "      <td>2020-04-16</td>\n",
       "      <td>2020-03-18</td>\n",
       "      <td>COTY</td>\n",
       "      <td>Gilbert Cisneros</td>\n",
       "      <td>Sale</td>\n",
       "      <td>1001.0</td>\n",
       "      <td>Representatives</td>\n",
       "      <td>$1,001-$15,000</td>\n",
       "      <td>Consumer Defensive</td>\n",
       "      <td>Household &amp; Personal Products</td>\n",
       "      <td>USA</td>\n",
       "      <td>-</td>\n",
       "    </tr>\n",
       "    <tr>\n",
       "      <th>1</th>\n",
       "      <td>1</td>\n",
       "      <td>2020-01-10</td>\n",
       "      <td>2019-12-06</td>\n",
       "      <td>COTY</td>\n",
       "      <td>Gilbert Cisneros</td>\n",
       "      <td>Purchase</td>\n",
       "      <td>1001.0</td>\n",
       "      <td>Representatives</td>\n",
       "      <td>$1,001-$15,000</td>\n",
       "      <td>Consumer Defensive</td>\n",
       "      <td>Household &amp; Personal Products</td>\n",
       "      <td>USA</td>\n",
       "      <td>-</td>\n",
       "    </tr>\n",
       "    <tr>\n",
       "      <th>2</th>\n",
       "      <td>2</td>\n",
       "      <td>2019-09-11</td>\n",
       "      <td>2019-08-14</td>\n",
       "      <td>COTY</td>\n",
       "      <td>Gilbert Cisneros</td>\n",
       "      <td>Sale</td>\n",
       "      <td>1001.0</td>\n",
       "      <td>Representatives</td>\n",
       "      <td>$1,001-$15,000</td>\n",
       "      <td>Consumer Defensive</td>\n",
       "      <td>Household &amp; Personal Products</td>\n",
       "      <td>USA</td>\n",
       "      <td>-</td>\n",
       "    </tr>\n",
       "    <tr>\n",
       "      <th>3</th>\n",
       "      <td>3</td>\n",
       "      <td>2019-09-16</td>\n",
       "      <td>2019-08-13</td>\n",
       "      <td>COTY</td>\n",
       "      <td>Dean Phillips</td>\n",
       "      <td>Sale</td>\n",
       "      <td>1001.0</td>\n",
       "      <td>Representatives</td>\n",
       "      <td>$1,001-$15,000</td>\n",
       "      <td>Consumer Defensive</td>\n",
       "      <td>Household &amp; Personal Products</td>\n",
       "      <td>USA</td>\n",
       "      <td>-</td>\n",
       "    </tr>\n",
       "    <tr>\n",
       "      <th>4</th>\n",
       "      <td>4</td>\n",
       "      <td>2019-04-16</td>\n",
       "      <td>2019-03-14</td>\n",
       "      <td>COTY</td>\n",
       "      <td>Gilbert Cisneros</td>\n",
       "      <td>Purchase</td>\n",
       "      <td>1001.0</td>\n",
       "      <td>Representatives</td>\n",
       "      <td>$1,001-$15,000</td>\n",
       "      <td>Consumer Defensive</td>\n",
       "      <td>Household &amp; Personal Products</td>\n",
       "      <td>USA</td>\n",
       "      <td>-</td>\n",
       "    </tr>\n",
       "    <tr>\n",
       "      <th>...</th>\n",
       "      <td>...</td>\n",
       "      <td>...</td>\n",
       "      <td>...</td>\n",
       "      <td>...</td>\n",
       "      <td>...</td>\n",
       "      <td>...</td>\n",
       "      <td>...</td>\n",
       "      <td>...</td>\n",
       "      <td>...</td>\n",
       "      <td>...</td>\n",
       "      <td>...</td>\n",
       "      <td>...</td>\n",
       "      <td>...</td>\n",
       "    </tr>\n",
       "    <tr>\n",
       "      <th>19388</th>\n",
       "      <td>22615</td>\n",
       "      <td>2019-03-08</td>\n",
       "      <td>2019-02-15</td>\n",
       "      <td>BR</td>\n",
       "      <td>Gilbert Cisneros</td>\n",
       "      <td>Purchase</td>\n",
       "      <td>1001.0</td>\n",
       "      <td>Representatives</td>\n",
       "      <td>$1,001-$15,000</td>\n",
       "      <td>Technology</td>\n",
       "      <td>Information Technology Services</td>\n",
       "      <td>USA</td>\n",
       "      <td>S&amp;P 500</td>\n",
       "    </tr>\n",
       "    <tr>\n",
       "      <th>19389</th>\n",
       "      <td>22616</td>\n",
       "      <td>2018-10-30</td>\n",
       "      <td>2018-10-11</td>\n",
       "      <td>BR</td>\n",
       "      <td>Lois Frankel</td>\n",
       "      <td>Sale</td>\n",
       "      <td>1001.0</td>\n",
       "      <td>Representatives</td>\n",
       "      <td>$1,001-$15,000</td>\n",
       "      <td>Technology</td>\n",
       "      <td>Information Technology Services</td>\n",
       "      <td>USA</td>\n",
       "      <td>S&amp;P 500</td>\n",
       "    </tr>\n",
       "    <tr>\n",
       "      <th>19390</th>\n",
       "      <td>22617</td>\n",
       "      <td>2018-08-24</td>\n",
       "      <td>2018-07-18</td>\n",
       "      <td>BR</td>\n",
       "      <td>Lois Frankel</td>\n",
       "      <td>Sale</td>\n",
       "      <td>1001.0</td>\n",
       "      <td>Representatives</td>\n",
       "      <td>$1,001-$15,000</td>\n",
       "      <td>Technology</td>\n",
       "      <td>Information Technology Services</td>\n",
       "      <td>USA</td>\n",
       "      <td>S&amp;P 500</td>\n",
       "    </tr>\n",
       "    <tr>\n",
       "      <th>19391</th>\n",
       "      <td>22618</td>\n",
       "      <td>2018-04-27</td>\n",
       "      <td>2018-03-21</td>\n",
       "      <td>BR</td>\n",
       "      <td>Lois Frankel</td>\n",
       "      <td>Sale</td>\n",
       "      <td>1001.0</td>\n",
       "      <td>Representatives</td>\n",
       "      <td>$1,001-$15,000</td>\n",
       "      <td>Technology</td>\n",
       "      <td>Information Technology Services</td>\n",
       "      <td>USA</td>\n",
       "      <td>S&amp;P 500</td>\n",
       "    </tr>\n",
       "    <tr>\n",
       "      <th>19392</th>\n",
       "      <td>22619</td>\n",
       "      <td>2020-12-08</td>\n",
       "      <td>2020-11-04</td>\n",
       "      <td>ACM</td>\n",
       "      <td>Susie Lee</td>\n",
       "      <td>Sale</td>\n",
       "      <td>1001.0</td>\n",
       "      <td>Representatives</td>\n",
       "      <td>$1,001-$15,000</td>\n",
       "      <td>Industrials</td>\n",
       "      <td>Engineering &amp; Construction</td>\n",
       "      <td>USA</td>\n",
       "      <td>-</td>\n",
       "    </tr>\n",
       "  </tbody>\n",
       "</table>\n",
       "<p>19393 rows × 13 columns</p>\n",
       "</div>"
      ],
      "text/plain": [
       "       Unnamed: 0  ReportDate TransactionDate Ticker     Representative  \\\n",
       "0               0  2020-04-16      2020-03-18   COTY   Gilbert Cisneros   \n",
       "1               1  2020-01-10      2019-12-06   COTY   Gilbert Cisneros   \n",
       "2               2  2019-09-11      2019-08-14   COTY   Gilbert Cisneros   \n",
       "3               3  2019-09-16      2019-08-13   COTY      Dean Phillips   \n",
       "4               4  2019-04-16      2019-03-14   COTY   Gilbert Cisneros   \n",
       "...           ...         ...             ...    ...                ...   \n",
       "19388       22615  2019-03-08      2019-02-15     BR   Gilbert Cisneros   \n",
       "19389       22616  2018-10-30      2018-10-11     BR       Lois Frankel   \n",
       "19390       22617  2018-08-24      2018-07-18     BR       Lois Frankel   \n",
       "19391       22618  2018-04-27      2018-03-21     BR       Lois Frankel   \n",
       "19392       22619  2020-12-08      2020-11-04    ACM          Susie Lee   \n",
       "\n",
       "      Transaction  Amount            House           Range  \\\n",
       "0            Sale  1001.0  Representatives  $1,001-$15,000   \n",
       "1        Purchase  1001.0  Representatives  $1,001-$15,000   \n",
       "2            Sale  1001.0  Representatives  $1,001-$15,000   \n",
       "3            Sale  1001.0  Representatives  $1,001-$15,000   \n",
       "4        Purchase  1001.0  Representatives  $1,001-$15,000   \n",
       "...           ...     ...              ...             ...   \n",
       "19388    Purchase  1001.0  Representatives  $1,001-$15,000   \n",
       "19389        Sale  1001.0  Representatives  $1,001-$15,000   \n",
       "19390        Sale  1001.0  Representatives  $1,001-$15,000   \n",
       "19391        Sale  1001.0  Representatives  $1,001-$15,000   \n",
       "19392        Sale  1001.0  Representatives  $1,001-$15,000   \n",
       "\n",
       "                   sector                         industry country    Index  \n",
       "0      Consumer Defensive    Household & Personal Products     USA        -  \n",
       "1      Consumer Defensive    Household & Personal Products     USA        -  \n",
       "2      Consumer Defensive    Household & Personal Products     USA        -  \n",
       "3      Consumer Defensive    Household & Personal Products     USA        -  \n",
       "4      Consumer Defensive    Household & Personal Products     USA        -  \n",
       "...                   ...                              ...     ...      ...  \n",
       "19388          Technology  Information Technology Services     USA  S&P 500  \n",
       "19389          Technology  Information Technology Services     USA  S&P 500  \n",
       "19390          Technology  Information Technology Services     USA  S&P 500  \n",
       "19391          Technology  Information Technology Services     USA  S&P 500  \n",
       "19392         Industrials       Engineering & Construction     USA        -  \n",
       "\n",
       "[19393 rows x 13 columns]"
      ]
     },
     "metadata": {},
     "output_type": "display_data"
    }
   ],
   "source": [
    "fundamentals_df.rename(columns={\"ticker\": \"Ticker\"}, inplace=True)\n",
    "merged_df = pd.merge(congress_trades,fundamentals_df, on=\"Ticker\")\n",
    "display(merged_df)"
   ]
  },
  {
   "cell_type": "code",
   "execution_count": 64,
   "id": "78aa4a4f",
   "metadata": {},
   "outputs": [
    {
     "data": {
      "text/plain": [
       "1153"
      ]
     },
     "execution_count": 64,
     "metadata": {},
     "output_type": "execute_result"
    }
   ],
   "source": [
    "ticker_list = merged_df[\"Ticker\"].unique()\n",
    "len(ticker_list)\n"
   ]
  },
  {
   "cell_type": "code",
   "execution_count": 50,
   "id": "60f389d8",
   "metadata": {},
   "outputs": [
    {
     "name": "stdout",
     "output_type": "stream",
     "text": [
      "<class 'pandas.core.frame.DataFrame'>\n",
      "Int64Index: 19393 entries, 0 to 19392\n",
      "Data columns (total 13 columns):\n",
      " #   Column           Non-Null Count  Dtype  \n",
      "---  ------           --------------  -----  \n",
      " 0   Unnamed: 0       19393 non-null  int64  \n",
      " 1   ReportDate       19060 non-null  object \n",
      " 2   TransactionDate  19393 non-null  object \n",
      " 3   Ticker           19393 non-null  object \n",
      " 4   Representative   19393 non-null  object \n",
      " 5   Transaction      19393 non-null  object \n",
      " 6   Amount           19393 non-null  float64\n",
      " 7   House            19393 non-null  object \n",
      " 8   Range            19393 non-null  object \n",
      " 9   sector           19393 non-null  object \n",
      " 10  industry         19393 non-null  object \n",
      " 11  country          19393 non-null  object \n",
      " 12  Index            19393 non-null  object \n",
      "dtypes: float64(1), int64(1), object(11)\n",
      "memory usage: 2.1+ MB\n"
     ]
    }
   ],
   "source": [
    "merged_df.info()\n",
    "#fundamaentals were successfully scraped for all congress trades trickers\n"
   ]
  },
  {
   "cell_type": "markdown",
   "id": "6cf138b5",
   "metadata": {},
   "source": [
    "## Now it is time to engineer some features"
   ]
  },
  {
   "cell_type": "code",
   "execution_count": 51,
   "id": "baed876e",
   "metadata": {},
   "outputs": [],
   "source": [
    "# time delta feature where we find the difference between transactions"
   ]
  },
  {
   "cell_type": "markdown",
   "id": "c63f8b18",
   "metadata": {},
   "source": [
    "## Now lets make target \n",
    "* use alpaca API to retrieve stock prices\n",
    "* find future price 6 months out and if that is in the future take the current stock price\n",
    "    * note that this method does not account for buying and selling the stock sooner than 6 months\n",
    "    \n",
    "\n"
   ]
  },
  {
   "cell_type": "code",
   "execution_count": 52,
   "id": "e5811f95",
   "metadata": {},
   "outputs": [],
   "source": [
    "# Import Alpaca SDK packages\n",
    "from alpaca.data.requests import StockBarsRequest\n",
    "from alpaca.data.timeframe import TimeFrame\n",
    "from alpaca.data.timeframe import TimeFrameUnit\n",
    "from alpaca.data.historical import StockHistoricalDataClient\n",
    "from alpaca.data.requests import StockLatestQuoteRequest\n",
    "import json\n",
    "from datetime import datetime, timedelta\n",
    "\n",
    "#get Keys \n",
    "f = open(\"/Users/austinpaxton/Documents/credentials/ALPACA_cred.json\")\n",
    "data = json.load(f)\n",
    "\n",
    "alpaca_key = data[\"KEY\"]\n",
    "alpaca_secret = data[\"SECRET_KEY\"]\n",
    "\n",
    "\n",
    "\n",
    "\n",
    "# initialize client to make requests\n",
    "alpaca_client = StockHistoricalDataClient(alpaca_key, alpaca_secret)\n",
    "\n",
    "#function that retrieves daily data for certain date  \n",
    "def get_bar(client: StockHistoricalDataClient, ticker: str, start_date: datetime):\n",
    "    print(type(client))\n",
    "    request = StockBarsRequest(symbol_or_symbols=[ticker], \n",
    "                                   timeframe=TimeFrame.Day,\n",
    "                                    start=start_date,\n",
    "                                    end = start_date + timedelta(days=1),\n",
    "                                    adjustment=\"split\")\n",
    "    bar = client.get_stock_bars(request_params = request) #use client to make request\n",
    "    return bar[ticker][0]  #return alpaca data bar from specific day contains o, h, l, c, volume, vwap\n",
    "\n",
    "\n"
   ]
  },
  {
   "cell_type": "code",
   "execution_count": 53,
   "id": "a0390076",
   "metadata": {},
   "outputs": [
    {
     "name": "stdout",
     "output_type": "stream",
     "text": [
      "<class 'alpaca.data.historical.stock.StockHistoricalDataClient'>\n",
      "165.05\n",
      "<class 'float'>\n"
     ]
    }
   ],
   "source": [
    "bar = get_bar(alpaca_client, \"AAPL\", datetime(2023,4,21))\n",
    "print(bar.open)\n",
    "print(type(bar.open))"
   ]
  },
  {
   "cell_type": "code",
   "execution_count": 54,
   "id": "4e409310",
   "metadata": {},
   "outputs": [
    {
     "name": "stdout",
     "output_type": "stream",
     "text": [
      "<class 'alpaca.data.historical.stock.StockHistoricalDataClient'>\n"
     ]
    },
    {
     "ename": "KeyError",
     "evalue": "'No key AAPL was found.'",
     "output_type": "error",
     "traceback": [
      "\u001b[0;31m---------------------------------------------------------------------------\u001b[0m",
      "\u001b[0;31mKeyError\u001b[0m                                  Traceback (most recent call last)",
      "Cell \u001b[0;32mIn[54], line 1\u001b[0m\n\u001b[0;32m----> 1\u001b[0m bar \u001b[38;5;241m=\u001b[39m \u001b[43mget_bar\u001b[49m\u001b[43m(\u001b[49m\u001b[43malpaca_client\u001b[49m\u001b[43m,\u001b[49m\u001b[43m \u001b[49m\u001b[38;5;124;43m\"\u001b[39;49m\u001b[38;5;124;43mAAPL\u001b[39;49m\u001b[38;5;124;43m\"\u001b[39;49m\u001b[43m,\u001b[49m\u001b[43m \u001b[49m\u001b[43mdatetime\u001b[49m\u001b[43m(\u001b[49m\u001b[38;5;241;43m2023\u001b[39;49m\u001b[43m,\u001b[49m\u001b[38;5;241;43m4\u001b[39;49m\u001b[43m,\u001b[49m\u001b[38;5;241;43m22\u001b[39;49m\u001b[43m)\u001b[49m\u001b[43m)\u001b[49m\n\u001b[1;32m      2\u001b[0m \u001b[38;5;66;03m#we get key error when we try to query on a date\u001b[39;00m\n\u001b[1;32m      3\u001b[0m \u001b[38;5;28mprint\u001b[39m(bar)\n",
      "Cell \u001b[0;32mIn[52], line 32\u001b[0m, in \u001b[0;36mget_bar\u001b[0;34m(client, ticker, start_date)\u001b[0m\n\u001b[1;32m     26\u001b[0m request \u001b[38;5;241m=\u001b[39m StockBarsRequest(symbol_or_symbols\u001b[38;5;241m=\u001b[39m[ticker], \n\u001b[1;32m     27\u001b[0m                                timeframe\u001b[38;5;241m=\u001b[39mTimeFrame\u001b[38;5;241m.\u001b[39mDay,\n\u001b[1;32m     28\u001b[0m                                 start\u001b[38;5;241m=\u001b[39mstart_date,\n\u001b[1;32m     29\u001b[0m                                 end \u001b[38;5;241m=\u001b[39m start_date \u001b[38;5;241m+\u001b[39m timedelta(days\u001b[38;5;241m=\u001b[39m\u001b[38;5;241m1\u001b[39m),\n\u001b[1;32m     30\u001b[0m                                 adjustment\u001b[38;5;241m=\u001b[39m\u001b[38;5;124m\"\u001b[39m\u001b[38;5;124msplit\u001b[39m\u001b[38;5;124m\"\u001b[39m)\n\u001b[1;32m     31\u001b[0m bar \u001b[38;5;241m=\u001b[39m client\u001b[38;5;241m.\u001b[39mget_stock_bars(request_params \u001b[38;5;241m=\u001b[39m request) \u001b[38;5;66;03m#use client to make request\u001b[39;00m\n\u001b[0;32m---> 32\u001b[0m \u001b[38;5;28;01mreturn\u001b[39;00m \u001b[43mbar\u001b[49m\u001b[43m[\u001b[49m\u001b[43mticker\u001b[49m\u001b[43m]\u001b[49m[\u001b[38;5;241m0\u001b[39m]\n",
      "File \u001b[0;32m~/anaconda3/envs/ML_bootcamp/lib/python3.10/site-packages/alpaca/data/models/base.py:48\u001b[0m, in \u001b[0;36mBaseDataSet.__getitem__\u001b[0;34m(self, symbol)\u001b[0m\n\u001b[1;32m     36\u001b[0m \u001b[38;5;124;03m\"\"\"Gives dictionary-like access to multi-symbol data\u001b[39;00m\n\u001b[1;32m     37\u001b[0m \n\u001b[1;32m     38\u001b[0m \u001b[38;5;124;03mArgs:\u001b[39;00m\n\u001b[0;32m   (...)\u001b[0m\n\u001b[1;32m     45\u001b[0m \u001b[38;5;124;03m    List[Bar]: The data for the given symbol\u001b[39;00m\n\u001b[1;32m     46\u001b[0m \u001b[38;5;124;03m\"\"\"\u001b[39;00m\n\u001b[1;32m     47\u001b[0m \u001b[38;5;28;01mif\u001b[39;00m symbol \u001b[38;5;129;01mnot\u001b[39;00m \u001b[38;5;129;01min\u001b[39;00m \u001b[38;5;28mself\u001b[39m\u001b[38;5;241m.\u001b[39mdata:\n\u001b[0;32m---> 48\u001b[0m     \u001b[38;5;28;01mraise\u001b[39;00m \u001b[38;5;167;01mKeyError\u001b[39;00m(\u001b[38;5;124mf\u001b[39m\u001b[38;5;124m\"\u001b[39m\u001b[38;5;124mNo key \u001b[39m\u001b[38;5;132;01m{\u001b[39;00msymbol\u001b[38;5;132;01m}\u001b[39;00m\u001b[38;5;124m was found.\u001b[39m\u001b[38;5;124m\"\u001b[39m)\n\u001b[1;32m     50\u001b[0m \u001b[38;5;28;01mreturn\u001b[39;00m \u001b[38;5;28mself\u001b[39m\u001b[38;5;241m.\u001b[39mdata[symbol]\n",
      "\u001b[0;31mKeyError\u001b[0m: 'No key AAPL was found.'"
     ]
    }
   ],
   "source": [
    "bar = get_bar(alpaca_client, \"AAPL\", datetime(2023,4,22))\n",
    "#we get key error when we try to query on a date\n",
    "print(bar)"
   ]
  },
  {
   "cell_type": "code",
   "execution_count": 55,
   "id": "ccb75725",
   "metadata": {},
   "outputs": [
    {
     "name": "stdout",
     "output_type": "stream",
     "text": [
      "AAPL\n",
      "<class 'alpaca.data.historical.stock.StockHistoricalDataClient'>\n",
      "Initial Price: 158.735, type: <class 'float'>\n",
      "End Date: 2022-05-31 00:00:00, type: <class 'datetime.datetime'>\n",
      "<class 'alpaca.data.historical.stock.StockHistoricalDataClient'>\n",
      "Final Price: 149.07, type: <class 'float'>\n",
      "-0.060887642926890855\n"
     ]
    },
    {
     "data": {
      "image/png": "[encoded data removed]",
      "text/plain": [
       "<Figure size 640x480 with 1 Axes>"
      ]
     },
     "metadata": {},
     "output_type": "display_data"
    }
   ],
   "source": [
    "date = datetime(2021,12,2)\n",
    "transaction =\"Purchase\"\n",
    "\n",
    "test_return, end_date = get_trade_return(\"AAPL\", date, transaction, 180)\n",
    "visualize_trade(\"AAPL\", date ,end_date, transaction, alpaca_client)\n",
    "print(test_return)"
   ]
  },
  {
   "cell_type": "code",
   "execution_count": 56,
   "id": "dafcc11f",
   "metadata": {},
   "outputs": [],
   "source": [
    "# create function to find returns\n",
    "# apply it as a lambda funtion so we can take other args\n",
    "\n",
    "\"\"\"\n",
    "period: number of days we use to calculate end date where return is calculated\n",
    "\"\"\"\n",
    "\n",
    "def get_trade_return(ticker: str, TransactionDate: datetime,Transaction: str, period: int):\n",
    "    print(ticker)\n",
    "    period = timedelta(days=period)\n",
    "    price_i = get_bar(alpaca_client, ticker, TransactionDate).open\n",
    "    print(f\"Initial Price: {price_i}, type: {type(price_i)}\")\n",
    "    end_date = TransactionDate + period\n",
    "    print(f\"End Date: {end_date}, type: {type(end_date)}\")\n",
    "    today = datetime.today()\n",
    "    if end_date > today:\n",
    "        end_date = today - timedelta(minute=15) #alpaca quotes delayed for 15 min\n",
    "    if end_date.weekday() == 5:  #if saturday adjust to previous friday (so market is open)\n",
    "        end_date -= timedelta(days=1)\n",
    "    elif end_date.weekday() == 6:\n",
    "        end_date -= timedelta(days=2) #if saturday adjust to previous friday (so market is open)\n",
    "        \n",
    "    #weekend edge cases handled but market closed holidays are still an issue\n",
    "    #handle them w try except (key error from get_bar(function) bc no bars returned)\n",
    "    try: \n",
    "        price_f = get_bar(alpaca_client, ticker, end_date).open\n",
    "        print(f\"Final Price: {price_f}, type: {type(price_f)}\")\n",
    "    except KeyError: #weekend edge cases handled but market closed holidays are still an issue\n",
    "        print(end_date)\n",
    "        print(f\"no bar returned for ticker: {ticker}\")\n",
    "        end_date = prev_wednessday(end_date) #take previous wednesday bc no holidays fall on a wednesday\n",
    "    \n",
    "    #calculate % return\n",
    "    if Transaction == \"Purchase\":\n",
    "        return_on_trade = (price_f-price_i)/price_i\n",
    "    elif Transaction == \"Sale\":\n",
    "        return_on_trade = (price_i-price_f)/price_i\n",
    "        \n",
    "    return return_on_trade, end_date\n",
    "        \n",
    "        \n",
    "    \n",
    "        \n",
    "    "
   ]
  },
  {
   "cell_type": "code",
   "execution_count": 57,
   "id": "c30b3876",
   "metadata": {},
   "outputs": [],
   "source": [
    "def prev_wednessday(date: datetime):\n",
    "    weekday = date.weekday()\n",
    "    day_difference = abs(weekday-2)\n",
    "    if weekday > 2:\n",
    "        date -= timedelta(day_difference)\n",
    "    elif weekday<2:\n",
    "        date += timedelta(day_difference)\n",
    "    return date\n",
    "        \n",
    "    "
   ]
  },
  {
   "cell_type": "code",
   "execution_count": 58,
   "id": "1a93cbe9",
   "metadata": {},
   "outputs": [
    {
     "name": "stderr",
     "output_type": "stream",
     "text": [
      "<>:24: SyntaxWarning: \"is\" with a literal. Did you mean \"==\"?\n",
      "<>:24: SyntaxWarning: \"is\" with a literal. Did you mean \"==\"?\n",
      "/var/folders/hn/vdq8ffhj0zq9blr74w80pr180000gn/T/ipykernel_5154/974719873.py:24: SyntaxWarning: \"is\" with a literal. Did you mean \"==\"?\n",
      "  if transaction is \"Sale\":\n"
     ]
    }
   ],
   "source": [
    "def y_fmt(x,y):\n",
    "    return '${}'.format(x)\n",
    "\n",
    "def visualize_trade(ticker: str, tradedate: datetime, return_date: datetime, transaction: str, client: StockHistoricalDataClient):\n",
    "    request = StockBarsRequest(symbol_or_symbols=[ticker], \n",
    "                                   timeframe=TimeFrame.Day,\n",
    "                                    start=tradedate - timedelta(days=20),\n",
    "                                    adjustment=\"split\")\n",
    "    bar = client.get_stock_bars(request_params = request)\n",
    "    bar_df = bar.df\n",
    "    plot_df = bar_df.droplevel(level=0)\n",
    "\n",
    "    fig, ax = plt.subplots()\n",
    "    ax.plot(plot_df.open)\n",
    "    ax.yaxis.set_major_formatter(tick.FuncFormatter(y_fmt))\n",
    "    five_year_locator = mdates.MonthLocator(interval=6)\n",
    "    ax.xaxis.set_major_locator(five_year_locator)\n",
    "    ax.grid()\n",
    "    ax.title.set_text(f\"Trade Visualization on {ticker}\")\n",
    "    ax.set_xlabel('Time')\n",
    "    ax.set_ylabel('Price')\n",
    "    ax.tick_params(axis='y')\n",
    "    \n",
    "    if transaction is \"Sale\":\n",
    "        color_i = \"r\"\n",
    "        color_f = \"g\"\n",
    "    else:\n",
    "        color_i = \"g\"\n",
    "        color_f = \"r\"\n",
    "        \n",
    "    ax.axvline(x = tradedate, color = color_i, label = 'Trade') #plot trade date\n",
    "    ax.axvline(x = return_date, color = color_f, label = 'Trade') #plot return date\n",
    "    "
   ]
  },
  {
   "cell_type": "code",
   "execution_count": 59,
   "id": "904b43ea",
   "metadata": {},
   "outputs": [
    {
     "data": {
      "image/png": "[encoded data removed]",
      "text/plain": [
       "<Figure size 640x480 with 1 Axes>"
      ]
     },
     "metadata": {},
     "output_type": "display_data"
    }
   ],
   "source": [
    "visualize_trade(\"AAPL\", datetime(2020,1,1), datetime(2022,2,1), \"Sale\", alpaca_client)\n"
   ]
  },
  {
   "cell_type": "code",
   "execution_count": 60,
   "id": "2e5e761f",
   "metadata": {},
   "outputs": [],
   "source": [
    "# convert transaction date to datetime object \n",
    "def convert_to_date(timestamp):\n",
    "    return pd.to_datetime(timestamp)\n",
    "\n",
    "merged_df[\"TransactionDate\"] = merged_df[\"TransactionDate\"].apply(convert_to_date, )"
   ]
  },
  {
   "cell_type": "code",
   "execution_count": 61,
   "id": "5c640e60",
   "metadata": {},
   "outputs": [
    {
     "name": "stdout",
     "output_type": "stream",
     "text": [
      "COTY\n",
      "<class 'alpaca.data.historical.stock.StockHistoricalDataClient'>\n",
      "Initial Price: 5.05, type: <class 'float'>\n",
      "End Date: 2020-09-14 00:00:00, type: <class 'pandas._libs.tslibs.timestamps.Timestamp'>\n",
      "<class 'alpaca.data.historical.stock.StockHistoricalDataClient'>\n",
      "Final Price: 3.57, type: <class 'float'>\n",
      "COTY\n",
      "<class 'alpaca.data.historical.stock.StockHistoricalDataClient'>\n",
      "Initial Price: 11.85, type: <class 'float'>\n",
      "End Date: 2020-06-03 00:00:00, type: <class 'pandas._libs.tslibs.timestamps.Timestamp'>\n",
      "<class 'alpaca.data.historical.stock.StockHistoricalDataClient'>\n",
      "Final Price: 4.48, type: <class 'float'>\n",
      "COTY\n",
      "<class 'alpaca.data.historical.stock.StockHistoricalDataClient'>\n",
      "Initial Price: 9.58, type: <class 'float'>\n",
      "End Date: 2020-02-10 00:00:00, type: <class 'pandas._libs.tslibs.timestamps.Timestamp'>\n",
      "<class 'alpaca.data.historical.stock.StockHistoricalDataClient'>\n",
      "Final Price: 12.0, type: <class 'float'>\n",
      "COTY\n",
      "<class 'alpaca.data.historical.stock.StockHistoricalDataClient'>\n",
      "Initial Price: 9.8, type: <class 'float'>\n",
      "End Date: 2020-02-09 00:00:00, type: <class 'pandas._libs.tslibs.timestamps.Timestamp'>\n",
      "<class 'alpaca.data.historical.stock.StockHistoricalDataClient'>\n",
      "Final Price: 12.01, type: <class 'float'>\n",
      "COTY\n",
      "<class 'alpaca.data.historical.stock.StockHistoricalDataClient'>\n",
      "Initial Price: 10.98, type: <class 'float'>\n",
      "End Date: 2019-09-10 00:00:00, type: <class 'pandas._libs.tslibs.timestamps.Timestamp'>\n",
      "<class 'alpaca.data.historical.stock.StockHistoricalDataClient'>\n",
      "Final Price: 10.18, type: <class 'float'>\n",
      "COTY\n",
      "<class 'alpaca.data.historical.stock.StockHistoricalDataClient'>\n",
      "Initial Price: 11.03, type: <class 'float'>\n",
      "End Date: 2019-09-02 00:00:00, type: <class 'pandas._libs.tslibs.timestamps.Timestamp'>\n",
      "<class 'alpaca.data.historical.stock.StockHistoricalDataClient'>\n",
      "2019-09-02 00:00:00\n",
      "no bar returned for ticker: COTY\n"
     ]
    },
    {
     "ename": "UnboundLocalError",
     "evalue": "local variable 'price_f' referenced before assignment",
     "output_type": "error",
     "traceback": [
      "\u001b[0;31m---------------------------------------------------------------------------\u001b[0m",
      "\u001b[0;31mUnboundLocalError\u001b[0m                         Traceback (most recent call last)",
      "Cell \u001b[0;32mIn[61], line 1\u001b[0m\n\u001b[0;32m----> 1\u001b[0m merged_df[\u001b[38;5;124m\"\u001b[39m\u001b[38;5;124m6mo_return\u001b[39m\u001b[38;5;124m\"\u001b[39m] \u001b[38;5;241m=\u001b[39m \u001b[43mmerged_df\u001b[49m\u001b[38;5;241;43m.\u001b[39;49m\u001b[43mapply\u001b[49m\u001b[43m(\u001b[49m\u001b[38;5;28;43;01mlambda\u001b[39;49;00m\u001b[43m \u001b[49m\u001b[43mx\u001b[49m\u001b[43m:\u001b[49m\u001b[43m \u001b[49m\u001b[43mget_trade_return\u001b[49m\u001b[43m(\u001b[49m\u001b[43mx\u001b[49m\u001b[43m[\u001b[49m\u001b[38;5;124;43m\"\u001b[39;49m\u001b[38;5;124;43mTicker\u001b[39;49m\u001b[38;5;124;43m\"\u001b[39;49m\u001b[43m]\u001b[49m\u001b[43m,\u001b[49m\u001b[43m \u001b[49m\u001b[43mx\u001b[49m\u001b[43m[\u001b[49m\u001b[38;5;124;43m\"\u001b[39;49m\u001b[38;5;124;43mTransactionDate\u001b[39;49m\u001b[38;5;124;43m\"\u001b[39;49m\u001b[43m]\u001b[49m\u001b[43m,\u001b[49m\u001b[43m \u001b[49m\u001b[43mx\u001b[49m\u001b[43m[\u001b[49m\u001b[38;5;124;43m\"\u001b[39;49m\u001b[38;5;124;43mTransaction\u001b[39;49m\u001b[38;5;124;43m\"\u001b[39;49m\u001b[43m]\u001b[49m\u001b[43m,\u001b[49m\u001b[43m \u001b[49m\u001b[43mperiod\u001b[49m\u001b[38;5;241;43m=\u001b[39;49m\u001b[38;5;241;43m180\u001b[39;49m\u001b[43m)\u001b[49m\u001b[43m[\u001b[49m\u001b[38;5;241;43m0\u001b[39;49m\u001b[43m]\u001b[49m\u001b[43m,\u001b[49m\u001b[43maxis\u001b[49m\u001b[38;5;241;43m=\u001b[39;49m\u001b[38;5;241;43m1\u001b[39;49m\u001b[43m)\u001b[49m\n",
      "File \u001b[0;32m~/anaconda3/envs/ML_bootcamp/lib/python3.10/site-packages/pandas/core/frame.py:9568\u001b[0m, in \u001b[0;36mDataFrame.apply\u001b[0;34m(self, func, axis, raw, result_type, args, **kwargs)\u001b[0m\n\u001b[1;32m   9557\u001b[0m \u001b[38;5;28;01mfrom\u001b[39;00m \u001b[38;5;21;01mpandas\u001b[39;00m\u001b[38;5;21;01m.\u001b[39;00m\u001b[38;5;21;01mcore\u001b[39;00m\u001b[38;5;21;01m.\u001b[39;00m\u001b[38;5;21;01mapply\u001b[39;00m \u001b[38;5;28;01mimport\u001b[39;00m frame_apply\n\u001b[1;32m   9559\u001b[0m op \u001b[38;5;241m=\u001b[39m frame_apply(\n\u001b[1;32m   9560\u001b[0m     \u001b[38;5;28mself\u001b[39m,\n\u001b[1;32m   9561\u001b[0m     func\u001b[38;5;241m=\u001b[39mfunc,\n\u001b[0;32m   (...)\u001b[0m\n\u001b[1;32m   9566\u001b[0m     kwargs\u001b[38;5;241m=\u001b[39mkwargs,\n\u001b[1;32m   9567\u001b[0m )\n\u001b[0;32m-> 9568\u001b[0m \u001b[38;5;28;01mreturn\u001b[39;00m \u001b[43mop\u001b[49m\u001b[38;5;241;43m.\u001b[39;49m\u001b[43mapply\u001b[49m\u001b[43m(\u001b[49m\u001b[43m)\u001b[49m\u001b[38;5;241m.\u001b[39m__finalize__(\u001b[38;5;28mself\u001b[39m, method\u001b[38;5;241m=\u001b[39m\u001b[38;5;124m\"\u001b[39m\u001b[38;5;124mapply\u001b[39m\u001b[38;5;124m\"\u001b[39m)\n",
      "File \u001b[0;32m~/anaconda3/envs/ML_bootcamp/lib/python3.10/site-packages/pandas/core/apply.py:764\u001b[0m, in \u001b[0;36mFrameApply.apply\u001b[0;34m(self)\u001b[0m\n\u001b[1;32m    761\u001b[0m \u001b[38;5;28;01melif\u001b[39;00m \u001b[38;5;28mself\u001b[39m\u001b[38;5;241m.\u001b[39mraw:\n\u001b[1;32m    762\u001b[0m     \u001b[38;5;28;01mreturn\u001b[39;00m \u001b[38;5;28mself\u001b[39m\u001b[38;5;241m.\u001b[39mapply_raw()\n\u001b[0;32m--> 764\u001b[0m \u001b[38;5;28;01mreturn\u001b[39;00m \u001b[38;5;28;43mself\u001b[39;49m\u001b[38;5;241;43m.\u001b[39;49m\u001b[43mapply_standard\u001b[49m\u001b[43m(\u001b[49m\u001b[43m)\u001b[49m\n",
      "File \u001b[0;32m~/anaconda3/envs/ML_bootcamp/lib/python3.10/site-packages/pandas/core/apply.py:891\u001b[0m, in \u001b[0;36mFrameApply.apply_standard\u001b[0;34m(self)\u001b[0m\n\u001b[1;32m    890\u001b[0m \u001b[38;5;28;01mdef\u001b[39;00m \u001b[38;5;21mapply_standard\u001b[39m(\u001b[38;5;28mself\u001b[39m):\n\u001b[0;32m--> 891\u001b[0m     results, res_index \u001b[38;5;241m=\u001b[39m \u001b[38;5;28;43mself\u001b[39;49m\u001b[38;5;241;43m.\u001b[39;49m\u001b[43mapply_series_generator\u001b[49m\u001b[43m(\u001b[49m\u001b[43m)\u001b[49m\n\u001b[1;32m    893\u001b[0m     \u001b[38;5;66;03m# wrap results\u001b[39;00m\n\u001b[1;32m    894\u001b[0m     \u001b[38;5;28;01mreturn\u001b[39;00m \u001b[38;5;28mself\u001b[39m\u001b[38;5;241m.\u001b[39mwrap_results(results, res_index)\n",
      "File \u001b[0;32m~/anaconda3/envs/ML_bootcamp/lib/python3.10/site-packages/pandas/core/apply.py:907\u001b[0m, in \u001b[0;36mFrameApply.apply_series_generator\u001b[0;34m(self)\u001b[0m\n\u001b[1;32m    904\u001b[0m \u001b[38;5;28;01mwith\u001b[39;00m option_context(\u001b[38;5;124m\"\u001b[39m\u001b[38;5;124mmode.chained_assignment\u001b[39m\u001b[38;5;124m\"\u001b[39m, \u001b[38;5;28;01mNone\u001b[39;00m):\n\u001b[1;32m    905\u001b[0m     \u001b[38;5;28;01mfor\u001b[39;00m i, v \u001b[38;5;129;01min\u001b[39;00m \u001b[38;5;28menumerate\u001b[39m(series_gen):\n\u001b[1;32m    906\u001b[0m         \u001b[38;5;66;03m# ignore SettingWithCopy here in case the user mutates\u001b[39;00m\n\u001b[0;32m--> 907\u001b[0m         results[i] \u001b[38;5;241m=\u001b[39m \u001b[38;5;28;43mself\u001b[39;49m\u001b[38;5;241;43m.\u001b[39;49m\u001b[43mf\u001b[49m\u001b[43m(\u001b[49m\u001b[43mv\u001b[49m\u001b[43m)\u001b[49m\n\u001b[1;32m    908\u001b[0m         \u001b[38;5;28;01mif\u001b[39;00m \u001b[38;5;28misinstance\u001b[39m(results[i], ABCSeries):\n\u001b[1;32m    909\u001b[0m             \u001b[38;5;66;03m# If we have a view on v, we need to make a copy because\u001b[39;00m\n\u001b[1;32m    910\u001b[0m             \u001b[38;5;66;03m#  series_generator will swap out the underlying data\u001b[39;00m\n\u001b[1;32m    911\u001b[0m             results[i] \u001b[38;5;241m=\u001b[39m results[i]\u001b[38;5;241m.\u001b[39mcopy(deep\u001b[38;5;241m=\u001b[39m\u001b[38;5;28;01mFalse\u001b[39;00m)\n",
      "Cell \u001b[0;32mIn[61], line 1\u001b[0m, in \u001b[0;36m<lambda>\u001b[0;34m(x)\u001b[0m\n\u001b[0;32m----> 1\u001b[0m merged_df[\u001b[38;5;124m\"\u001b[39m\u001b[38;5;124m6mo_return\u001b[39m\u001b[38;5;124m\"\u001b[39m] \u001b[38;5;241m=\u001b[39m merged_df\u001b[38;5;241m.\u001b[39mapply(\u001b[38;5;28;01mlambda\u001b[39;00m x: \u001b[43mget_trade_return\u001b[49m\u001b[43m(\u001b[49m\u001b[43mx\u001b[49m\u001b[43m[\u001b[49m\u001b[38;5;124;43m\"\u001b[39;49m\u001b[38;5;124;43mTicker\u001b[39;49m\u001b[38;5;124;43m\"\u001b[39;49m\u001b[43m]\u001b[49m\u001b[43m,\u001b[49m\u001b[43m \u001b[49m\u001b[43mx\u001b[49m\u001b[43m[\u001b[49m\u001b[38;5;124;43m\"\u001b[39;49m\u001b[38;5;124;43mTransactionDate\u001b[39;49m\u001b[38;5;124;43m\"\u001b[39;49m\u001b[43m]\u001b[49m\u001b[43m,\u001b[49m\u001b[43m \u001b[49m\u001b[43mx\u001b[49m\u001b[43m[\u001b[49m\u001b[38;5;124;43m\"\u001b[39;49m\u001b[38;5;124;43mTransaction\u001b[39;49m\u001b[38;5;124;43m\"\u001b[39;49m\u001b[43m]\u001b[49m\u001b[43m,\u001b[49m\u001b[43m \u001b[49m\u001b[43mperiod\u001b[49m\u001b[38;5;241;43m=\u001b[39;49m\u001b[38;5;241;43m180\u001b[39;49m\u001b[43m)\u001b[49m[\u001b[38;5;241m0\u001b[39m],axis\u001b[38;5;241m=\u001b[39m\u001b[38;5;241m1\u001b[39m)\n",
      "Cell \u001b[0;32mIn[56], line 35\u001b[0m, in \u001b[0;36mget_trade_return\u001b[0;34m(ticker, TransactionDate, Transaction, period)\u001b[0m\n\u001b[1;32m     33\u001b[0m \u001b[38;5;66;03m#calculate % return\u001b[39;00m\n\u001b[1;32m     34\u001b[0m \u001b[38;5;28;01mif\u001b[39;00m Transaction \u001b[38;5;241m==\u001b[39m \u001b[38;5;124m\"\u001b[39m\u001b[38;5;124mPurchase\u001b[39m\u001b[38;5;124m\"\u001b[39m:\n\u001b[0;32m---> 35\u001b[0m     return_on_trade \u001b[38;5;241m=\u001b[39m (\u001b[43mprice_f\u001b[49m\u001b[38;5;241m-\u001b[39mprice_i)\u001b[38;5;241m/\u001b[39mprice_i\n\u001b[1;32m     36\u001b[0m \u001b[38;5;28;01melif\u001b[39;00m Transaction \u001b[38;5;241m==\u001b[39m \u001b[38;5;124m\"\u001b[39m\u001b[38;5;124mSale\u001b[39m\u001b[38;5;124m\"\u001b[39m:\n\u001b[1;32m     37\u001b[0m     return_on_trade \u001b[38;5;241m=\u001b[39m (price_i\u001b[38;5;241m-\u001b[39mprice_f)\u001b[38;5;241m/\u001b[39mprice_i\n",
      "\u001b[0;31mUnboundLocalError\u001b[0m: local variable 'price_f' referenced before assignment"
     ]
    }
   ],
   "source": [
    "merged_df[\"6mo_return\"] = merged_df.apply(lambda x: get_trade_return(x[\"Ticker\"], x[\"TransactionDate\"], x[\"Transaction\"], period=180)[0],axis=1)\n"
   ]
  },
  {
   "cell_type": "code",
   "execution_count": null,
   "id": "56235cc2",
   "metadata": {},
   "outputs": [],
   "source": [
    "columns = merged_df.columns\n",
    "print(columns)\n",
    "print(len(columns[3]))"
   ]
  },
  {
   "cell_type": "code",
   "execution_count": null,
   "id": "4eebdbdb",
   "metadata": {},
   "outputs": [],
   "source": []
  }
 ],
 "metadata": {
  "kernelspec": {
   "display_name": "Python 3 (ipykernel)",
   "language": "python",
   "name": "python3"
  },
  "language_info": {
   "codemirror_mode": {
    "name": "ipython",
    "version": 3
   },
   "file_extension": ".py",
   "mimetype": "text/x-python",
   "name": "python",
   "nbconvert_exporter": "python",
   "pygments_lexer": "ipython3",
   "version": "3.10.10"
  }
 },
 "nbformat": 4,
 "nbformat_minor": 5
}
