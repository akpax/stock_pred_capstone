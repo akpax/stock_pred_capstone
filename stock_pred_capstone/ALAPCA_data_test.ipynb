{
 "cells": [
  {
   "cell_type": "markdown",
   "id": "395ea35b",
   "metadata": {},
   "source": [
    "# Pulling Data with ALPACA-py SDK\n",
    "\n",
    "* Link to SDK documentation: https://alpaca.markets/docs/python-sdk/index.html\n",
    "* Link to REST API documentation: https://alpaca.markets/docs/introduction/#rest-sse-and-websockets"
   ]
  },
  {
   "cell_type": "code",
   "execution_count": 1,
   "id": "f72e38b2",
   "metadata": {},
   "outputs": [
    {
     "name": "stdout",
     "output_type": "stream",
     "text": [
      "Collecting alpaca-py\n",
      "  Downloading alpaca_py-0.7.2-py3-none-any.whl (95 kB)\n",
      "\u001b[2K     \u001b[90m━━━━━━━━━━━━━━━━━━━━━━━━━━━━━━━━━━━━━━━━\u001b[0m \u001b[32m95.6/95.6 kB\u001b[0m \u001b[31m2.8 MB/s\u001b[0m eta \u001b[36m0:00:00\u001b[0m\n",
      "\u001b[?25hRequirement already satisfied: requests<3.0.0,>=2.27.1 in /Users/austinpaxton/opt/anaconda3/lib/python3.9/site-packages (from alpaca-py) (2.28.2)\n",
      "Collecting pydantic<2.0.0,>=1.9.0\n",
      "  Downloading pydantic-1.10.6-cp39-cp39-macosx_10_9_x86_64.whl (2.9 MB)\n",
      "\u001b[2K     \u001b[90m━━━━━━━━━━━━━━━━━━━━━━━━━━━━━━━━━━━━━━━━\u001b[0m \u001b[32m2.9/2.9 MB\u001b[0m \u001b[31m22.1 MB/s\u001b[0m eta \u001b[36m0:00:00\u001b[0ma \u001b[36m0:00:01\u001b[0m\n",
      "\u001b[?25hCollecting sseclient-py<2.0.0,>=1.7.2\n",
      "  Downloading sseclient_py-1.7.2-py2.py3-none-any.whl (8.4 kB)\n",
      "Requirement already satisfied: pandas<2.0.0,>=1.3.5 in /Users/austinpaxton/opt/anaconda3/lib/python3.9/site-packages (from alpaca-py) (1.5.3)\n",
      "Collecting websockets<11.0,>=10.2\n",
      "  Downloading websockets-10.4-cp39-cp39-macosx_10_9_x86_64.whl (97 kB)\n",
      "\u001b[2K     \u001b[90m━━━━━━━━━━━━━━━━━━━━━━━━━━━━━━━━━━━━━━━━\u001b[0m \u001b[32m97.9/97.9 kB\u001b[0m \u001b[31m11.1 MB/s\u001b[0m eta \u001b[36m0:00:00\u001b[0m\n",
      "\u001b[?25hCollecting msgpack<2.0.0,>=1.0.3\n",
      "  Downloading msgpack-1.0.5-cp39-cp39-macosx_10_9_x86_64.whl (75 kB)\n",
      "\u001b[2K     \u001b[90m━━━━━━━━━━━━━━━━━━━━━━━━━━━━━━━━━━━━━━━━\u001b[0m \u001b[32m75.2/75.2 kB\u001b[0m \u001b[31m9.8 MB/s\u001b[0m eta \u001b[36m0:00:00\u001b[0m\n",
      "\u001b[?25hRequirement already satisfied: numpy>=1.20.3 in /Users/austinpaxton/opt/anaconda3/lib/python3.9/site-packages (from pandas<2.0.0,>=1.3.5->alpaca-py) (1.20.3)\n",
      "Requirement already satisfied: python-dateutil>=2.8.1 in /Users/austinpaxton/opt/anaconda3/lib/python3.9/site-packages (from pandas<2.0.0,>=1.3.5->alpaca-py) (2.8.2)\n",
      "Requirement already satisfied: pytz>=2020.1 in /Users/austinpaxton/opt/anaconda3/lib/python3.9/site-packages (from pandas<2.0.0,>=1.3.5->alpaca-py) (2022.7.1)\n",
      "Collecting typing-extensions>=4.2.0\n",
      "  Downloading typing_extensions-4.5.0-py3-none-any.whl (27 kB)\n",
      "Requirement already satisfied: certifi>=2017.4.17 in /Users/austinpaxton/opt/anaconda3/lib/python3.9/site-packages (from requests<3.0.0,>=2.27.1->alpaca-py) (2022.12.7)\n",
      "Requirement already satisfied: idna<4,>=2.5 in /Users/austinpaxton/opt/anaconda3/lib/python3.9/site-packages (from requests<3.0.0,>=2.27.1->alpaca-py) (3.2)\n",
      "Requirement already satisfied: urllib3<1.27,>=1.21.1 in /Users/austinpaxton/opt/anaconda3/lib/python3.9/site-packages (from requests<3.0.0,>=2.27.1->alpaca-py) (1.26.7)\n",
      "Requirement already satisfied: charset-normalizer<4,>=2 in /Users/austinpaxton/opt/anaconda3/lib/python3.9/site-packages (from requests<3.0.0,>=2.27.1->alpaca-py) (2.0.4)\n",
      "Requirement already satisfied: six>=1.5 in /Users/austinpaxton/opt/anaconda3/lib/python3.9/site-packages (from python-dateutil>=2.8.1->pandas<2.0.0,>=1.3.5->alpaca-py) (1.16.0)\n",
      "Installing collected packages: sseclient-py, msgpack, websockets, typing-extensions, pydantic, alpaca-py\n",
      "  Attempting uninstall: msgpack\n",
      "    Found existing installation: msgpack 1.0.2\n",
      "    Uninstalling msgpack-1.0.2:\n",
      "      Successfully uninstalled msgpack-1.0.2\n",
      "  Attempting uninstall: typing-extensions\n",
      "    Found existing installation: typing-extensions 3.10.0.2\n",
      "    Uninstalling typing-extensions-3.10.0.2:\n",
      "      Successfully uninstalled typing-extensions-3.10.0.2\n",
      "Successfully installed alpaca-py-0.7.2 msgpack-1.0.5 pydantic-1.10.6 sseclient-py-1.7.2 typing-extensions-4.5.0 websockets-10.4\n"
     ]
    }
   ],
   "source": [
    "! pip install alpaca-py"
   ]
  },
  {
   "cell_type": "code",
   "execution_count": 1,
   "id": "e3762444",
   "metadata": {},
   "outputs": [],
   "source": [
    "ALPACA_URL = \"https://data.alpaca.markets\"\n",
    "\n",
    "\n",
    "import json \n",
    "\n",
    "#get Keys\n",
    "f = open(\"/Users/austinpaxton/Documents/credentials/ALPACA_cred.json\")\n",
    "data = json.load(f)\n",
    "\n",
    "headers = {\n",
    "    'content-type': 'application/json',\n",
    "    \"APCA-API-KEY-ID\": data[\"KEY\"],\n",
    "    \"APCA-API-SECRET-KEY\": data[\"SECRET_KEY\"]\n",
    "}\n",
    "\n",
    "headers_test = {\n",
    "                'content-type': 'application/json',\n",
    "                'Apca-Api-Key-Id': data[\"KEY\"],\n",
    "                'Apca-Api-Secret-Key': data[\"SECRET_KEY\"]\n",
    "               }\n",
    "\n"
   ]
  },
  {
   "cell_type": "code",
   "execution_count": 3,
   "id": "071e8918",
   "metadata": {},
   "outputs": [
    {
     "name": "stdout",
     "output_type": "stream",
     "text": [
      "<Response [200]>\n",
      "b'{\"bars\":[{\"t\":\"2023-03-22T04:00:00Z\",\"o\":398.73,\"h\":402.49,\"l\":395.67,\"c\":398.94,\"v\":75249260,\"n\":665068,\"vw\":399.035195}],\"symbol\":\"SPY\",\"next_page_token\":null}'\n"
     ]
    }
   ],
   "source": [
    "#request Historical data for spy\n",
    "import requests\n",
    "\n",
    "symbol = \"SPY\"\n",
    "\n",
    "daily_url = f\"{ALPACA_URL}/v2/stocks/{symbol}/bars?timeframe=1Day\"\n",
    "\n",
    "response = requests.get(daily_url, headers=headers)\n",
    "print(response)\n",
    "print(response.content)"
   ]
  },
  {
   "cell_type": "markdown",
   "id": "ff83196d",
   "metadata": {},
   "source": [
    "# Get Latest Quotes for multiple symbols"
   ]
  },
  {
   "cell_type": "code",
   "execution_count": 4,
   "id": "5875f0f7",
   "metadata": {},
   "outputs": [
    {
     "name": "stdout",
     "output_type": "stream",
     "text": [
      "{'AAPL': {   'ask_exchange': 'V',\n",
      "    'ask_price': 160.38,\n",
      "    'ask_size': 1.0,\n",
      "    'bid_exchange': 'V',\n",
      "    'bid_price': 160.3,\n",
      "    'bid_size': 1.0,\n",
      "    'conditions': ['R'],\n",
      "    'symbol': 'AAPL',\n",
      "    'tape': 'C',\n",
      "    'timestamp': datetime.datetime(2023, 3, 22, 19, 24, 53, 210754, tzinfo=datetime.timezone.utc)}, 'SPY': {   'ask_exchange': 'V',\n",
      "    'ask_price': 403.0,\n",
      "    'ask_size': 1.0,\n",
      "    'bid_exchange': 'V',\n",
      "    'bid_price': 390.25,\n",
      "    'bid_size': 1.0,\n",
      "    'conditions': ['R'],\n",
      "    'symbol': 'SPY',\n",
      "    'tape': 'B',\n",
      "    'timestamp': datetime.datetime(2023, 3, 22, 19, 24, 53, 180184, tzinfo=datetime.timezone.utc)}}\n"
     ]
    }
   ],
   "source": [
    "\n",
    "\n",
    "from alpaca.data.historical import StockHistoricalDataClient\n",
    "from alpaca.data.requests import StockLatestQuoteRequest\n",
    "\n",
    "# keys required for stock historical data client\n",
    "client = StockHistoricalDataClient(data[\"KEY\"], data[\"SECRET_KEY\"])\n",
    "\n",
    "# multi symbol request - single symbol is similar\n",
    "multisymbol_request_params = StockLatestQuoteRequest(symbol_or_symbols=[\"SPY\", \"AAPL\"])\n",
    "\n",
    "latest_quotes = client.get_stock_latest_quote(multisymbol_request_params)\n",
    "\n",
    "print(latest_quotes)"
   ]
  },
  {
   "cell_type": "markdown",
   "id": "96d2b6e1",
   "metadata": {},
   "source": [
    "# Get Historical Data for SPY"
   ]
  },
  {
   "cell_type": "code",
   "execution_count": 3,
   "id": "81d87a43",
   "metadata": {},
   "outputs": [
    {
     "ename": "NameError",
     "evalue": "name 'client' is not defined",
     "output_type": "error",
     "traceback": [
      "\u001b[0;31m---------------------------------------------------------------------------\u001b[0m",
      "\u001b[0;31mNameError\u001b[0m                                 Traceback (most recent call last)",
      "Cell \u001b[0;32mIn[3], line 11\u001b[0m\n\u001b[1;32m      3\u001b[0m \u001b[38;5;28;01mfrom\u001b[39;00m \u001b[38;5;21;01malpaca\u001b[39;00m\u001b[38;5;21;01m.\u001b[39;00m\u001b[38;5;21;01mdata\u001b[39;00m\u001b[38;5;21;01m.\u001b[39;00m\u001b[38;5;21;01mtimeframe\u001b[39;00m \u001b[38;5;28;01mimport\u001b[39;00m TimeFrameUnit\n\u001b[1;32m      6\u001b[0m SPY_request \u001b[38;5;241m=\u001b[39m StockBarsRequest(symbol_or_symbols\u001b[38;5;241m=\u001b[39m[\u001b[38;5;124m\"\u001b[39m\u001b[38;5;124mSPY\u001b[39m\u001b[38;5;124m\"\u001b[39m], \n\u001b[1;32m      7\u001b[0m                                timeframe\u001b[38;5;241m=\u001b[39mTimeFrame\u001b[38;5;241m.\u001b[39mDay,\n\u001b[1;32m      8\u001b[0m                                 start\u001b[38;5;241m=\u001b[39m\u001b[38;5;124m\"\u001b[39m\u001b[38;5;124m2008-01-01 00:00:00\u001b[39m\u001b[38;5;124m\"\u001b[39m,\n\u001b[1;32m      9\u001b[0m                               limit\u001b[38;5;241m=\u001b[39m\u001b[38;5;241m10000\u001b[39m)\n\u001b[0;32m---> 11\u001b[0m SPY_bars \u001b[38;5;241m=\u001b[39m \u001b[43mclient\u001b[49m\u001b[38;5;241m.\u001b[39mget_stock_bars(request_params \u001b[38;5;241m=\u001b[39m SPY_request) \u001b[38;5;66;03m#use client initiated in above cell\u001b[39;00m\n\u001b[1;32m     12\u001b[0m \u001b[38;5;28mprint\u001b[39m(SPY_bars\u001b[38;5;241m.\u001b[39mjson())\n",
      "\u001b[0;31mNameError\u001b[0m: name 'client' is not defined"
     ]
    }
   ],
   "source": [
    "from alpaca.data.requests import StockBarsRequest\n",
    "from alpaca.data.timeframe import TimeFrame\n",
    "from alpaca.data.timeframe import TimeFrameUnit\n",
    "\n",
    "\n",
    "SPY_request = StockBarsRequest(symbol_or_symbols=[\"SPY\"], \n",
    "                               timeframe=TimeFrame.Day,\n",
    "                                start=\"2008-01-01 00:00:00\",\n",
    "                              limit=10000)\n",
    "\n",
    "SPY_bars = client.get_stock_bars(request_params = SPY_request) #use client initiated in above cell\n",
    "print(SPY_bars.json())\n",
    "\n",
    "\n",
    "    "
   ]
  },
  {
   "cell_type": "code",
   "execution_count": null,
   "id": "2974d38b",
   "metadata": {},
   "outputs": [],
   "source": [
    "SPY_df = SPY_bars.df\n",
    "display(SPY_df)\n",
    "print(len(SPY_df))\n",
    "print(type(SPY_df))"
   ]
  },
  {
   "cell_type": "markdown",
   "id": "bf61d1ef",
   "metadata": {},
   "source": [
    "# News not implemented yet on SDK so use REST API"
   ]
  },
  {
   "cell_type": "markdown",
   "id": "2e779eaf",
   "metadata": {},
   "source": [
    "## Test News for 1 Symbol"
   ]
  },
  {
   "cell_type": "code",
   "execution_count": 35,
   "id": "7e166ce1",
   "metadata": {},
   "outputs": [
    {
     "name": "stdout",
     "output_type": "stream",
     "text": [
      "{'author': 'Benzinga Newsdesk', 'content': '', 'created_at': '2019-09-26T14:30:31Z', 'headline': \"'Tesla starts wider release of V10, and it finally includes Spotify' -Electrek\", 'id': 14497493, 'images': [], 'source': '', 'summary': '', 'symbols': ['SPOT', 'TSLA'], 'updated_at': '2019-09-26T14:30:31Z', 'url': 'https://www.benzinga.com/node/14497493'}\n"
     ]
    }
   ],
   "source": [
    "import requests\n",
    "import json\n",
    "symbols = 'TSLA'\n",
    "start_date = \"2018-09-01T00:00:00Z\"\n",
    "end_date = \"2019-09-30T11:59:59Z\"\n",
    "url = f'https://data.alpaca.markets/v1beta1/news?start={start_date}&end={end_date}&symbols={symbols}'\n",
    "headers = {'content-type': 'application/json', 'Apca-Api-Key-Id': data[\"KEY\"], 'Apca-Api-Secret-Key': data[\"SECRET_KEY\"]}\n",
    "response = requests.get(url, headers=headers)\n",
    "response_dict = json.loads(response.text)\n",
    "\n",
    "print(response_dict[\"news\"][9])"
   ]
  },
  {
   "cell_type": "code",
   "execution_count": 36,
   "id": "72f9e5d2",
   "metadata": {},
   "outputs": [
    {
     "name": "stdout",
     "output_type": "stream",
     "text": [
      "{'news': [{'author': 'Charles Gross', 'content': '', 'created_at': '2019-09-28T22:59:07Z', 'headline': 'First Report Of Accident With Tesla Smart Summon Emerges', 'id': 14509938, 'images': [], 'source': '', 'summary': '', 'symbols': ['TSLA'], 'updated_at': '2019-09-28T22:59:07Z', 'url': 'https://www.benzinga.com/node/14509938'}, {'author': 'Nelson Hem', 'content': '', 'created_at': '2019-09-28T19:22:32Z', 'headline': \"Barron's Picks And Pans: American Airlines, Chipotle, GM, Wells Fargo, More\", 'id': 14509839, 'images': [{'size': 'large', 'url': 'https://cdn.benzinga.com/files/imagecache/2048x1536xUP/images/story/2012/business-2651346_1920_5_1.jpg'}, {'size': 'small', 'url': 'https://cdn.benzinga.com/files/imagecache/1024x768xUP/images/story/2012/business-2651346_1920_5_1.jpg'}, {'size': 'thumb', 'url': 'https://cdn.benzinga.com/files/imagecache/250x187xUP/images/story/2012/business-2651346_1920_5_1.jpg'}], 'source': '', 'summary': '', 'symbols': ['AAL', 'AMGN', 'CMG', 'DUK', 'GM', 'NFLX', 'PTON', 'TSLA', 'WFC', 'WORK'], 'updated_at': '2019-09-28T19:22:33Z', 'url': 'https://www.benzinga.com/node/14509839'}, {'author': 'Benzinga Newsdesk', 'content': '', 'created_at': '2019-09-27T19:10:28Z', 'headline': \"'Tesla To Set Model 3 Sales Record In The Netherlands: 6,500 In Q3' -Inside EVs\", 'id': 14507605, 'images': [], 'source': '', 'summary': '', 'symbols': ['TSLA'], 'updated_at': '2019-09-27T19:10:29Z', 'url': 'https://www.benzinga.com/node/14507605'}, {'author': 'Sebastian Brown', 'content': '', 'created_at': '2019-09-27T19:08:29Z', 'headline': \"A Look At Benzinga Pro's Most-Searched Tickers For September 27, 2019\", 'id': 14506031, 'images': [], 'source': '', 'summary': '', 'symbols': ['BYND', 'CCL', 'DIS', 'MRNS', 'MU', 'PRPO', 'PTON', 'RAD', 'SQ', 'TSLA'], 'updated_at': '2019-09-27T19:08:29Z', 'url': 'https://www.benzinga.com/node/14506031'}, {'author': 'Shanthi Rexaline', 'content': '', 'created_at': '2019-09-27T17:51:36Z', 'headline': 'Tesla Analyst: September Rally In Deliveries Could Help Automaker Meet Street Expectations', 'id': 14499089, 'images': [{'size': 'large', 'url': 'https://cdn.benzinga.com/files/imagecache/2048x1536xUP/images/story/2012/model_3_5.jpg'}, {'size': 'small', 'url': 'https://cdn.benzinga.com/files/imagecache/1024x768xUP/images/story/2012/model_3_5.jpg'}, {'size': 'thumb', 'url': 'https://cdn.benzinga.com/files/imagecache/250x187xUP/images/story/2012/model_3_5.jpg'}], 'source': '', 'summary': '', 'symbols': ['NIO', 'TSLA'], 'updated_at': '2019-09-27T17:51:37Z', 'url': 'https://www.benzinga.com/node/14499089'}, {'author': 'Benzinga Newsdesk', 'content': '', 'created_at': '2019-09-27T13:57:36Z', 'headline': \"Benzinga Pro's Top 10 Most-Searched Tickers For Morning of Friday, September 27, 2019\", 'id': 14504871, 'images': [], 'source': '', 'summary': '', 'symbols': ['BYND', 'CCL', 'DIS', 'MRNS', 'MU', 'PRPO', 'PTON', 'RAD', 'SQ', 'TSLA'], 'updated_at': '2019-09-27T13:57:37Z', 'url': 'https://www.benzinga.com/node/14504871'}, {'author': 'Benzinga Newsdesk', 'content': '', 'created_at': '2019-09-26T19:19:41Z', 'headline': 'Tesla To LAunch Tesla Theater With IQIYI And Tencent Video Access For China-Based Customers; Latest Update Will Enable Streaming Media Access To Spotify, Tunein, Slacker While Parked & Connected To Wifi For Selected Model Cars', 'id': 14500309, 'images': [], 'source': '', 'summary': '', 'symbols': ['IQ', 'SPOT', 'TSLA'], 'updated_at': '2019-09-26T19:19:41Z', 'url': 'https://www.benzinga.com/node/14500309'}, {'author': 'Benzinga Newsdesk', 'content': '', 'created_at': '2019-09-26T17:19:27Z', 'headline': \"'Tesla 'has a shot' at record 100,000 cars this quarter – Elon Musk in leak email' -Electrek\", 'id': 14499420, 'images': [], 'source': '', 'summary': '', 'symbols': ['TSLA'], 'updated_at': '2019-09-26T17:19:27Z', 'url': 'https://www.benzinga.com/node/14499420'}, {'author': 'Benzinga Newsdesk', 'content': '', 'created_at': '2019-09-26T16:14:52Z', 'headline': \"'Tesla produces complete Model 3 body-in-white at Gigafactory 3, production to start Oct. 14' -electrek\", 'id': 14498733, 'images': [], 'source': '', 'summary': '', 'symbols': ['TSLA'], 'updated_at': '2019-09-26T16:14:53Z', 'url': 'https://www.benzinga.com/node/14498733'}, {'author': 'Benzinga Newsdesk', 'content': '', 'created_at': '2019-09-26T14:30:31Z', 'headline': \"'Tesla starts wider release of V10, and it finally includes Spotify' -Electrek\", 'id': 14497493, 'images': [], 'source': '', 'summary': '', 'symbols': ['SPOT', 'TSLA'], 'updated_at': '2019-09-26T14:30:31Z', 'url': 'https://www.benzinga.com/node/14497493'}], 'next_page_token': 'MTU2OTUwODIzMTAwMDAwMDAwMHwxNDQ5NzQ5Mw=='}\n"
     ]
    }
   ],
   "source": [
    "print(response_dict)"
   ]
  },
  {
   "cell_type": "code",
   "execution_count": 37,
   "id": "eaccc106",
   "metadata": {},
   "outputs": [
    {
     "name": "stdout",
     "output_type": "stream",
     "text": [
      "10\n"
     ]
    }
   ],
   "source": [
    "print(len(response_dict[\"news\"]))  #Note: News API only pulls 10 items at a time\n",
    "# where the first item is the enddate and the remaining "
   ]
  },
  {
   "cell_type": "markdown",
   "id": "f945d61a",
   "metadata": {},
   "source": [
    "## Test News for Multiple Symbols"
   ]
  },
  {
   "cell_type": "code",
   "execution_count": 46,
   "id": "6f3ae30f",
   "metadata": {},
   "outputs": [
    {
     "name": "stdout",
     "output_type": "stream",
     "text": [
      "Number of Articles: 10\n",
      "{'news': [{'author': 'Shivdeep Dhaliwal', 'content': '', 'created_at': '2022-09-30T10:34:36Z', 'headline': \"Elon Musk Texts Reveal Frustration: 'Fixing Twitter By Chatting With Parag Won't Work'\", 'id': 29089688, 'images': [{'size': 'large', 'url': 'https://cdn.benzinga.com/files/imagecache/2048x1536xUP/images/story/2022/09/30/shutterstock_2149752817.jpg'}, {'size': 'small', 'url': 'https://cdn.benzinga.com/files/imagecache/1024x768xUP/images/story/2022/09/30/shutterstock_2149752817.jpg'}, {'size': 'thumb', 'url': 'https://cdn.benzinga.com/files/imagecache/250x187xUP/images/story/2022/09/30/shutterstock_2149752817.jpg'}], 'source': 'benzinga', 'summary': 'A dump of text messages featuring Elon Musk’s interactions with Twitter Inc.\\xa0(NYSE: TWTR) founder Jack Dorsey and its CEO Parag Agrawal and a host of other big', 'symbols': ['TSLA', 'TWTR'], 'updated_at': '2022-09-30T10:34:36Z', 'url': 'https://www.benzinga.com/news/22/09/29089688/elon-musk-texts-reveal-frustration-fixing-twitter-by-chatting-with-parag-wont-work'}, {'author': 'Shanthi Rexaline', 'content': '', 'created_at': '2022-09-30T10:18:06Z', 'headline': 'Tesla AI Day 2022 Is Here: Updates On Optimus, Dojo, FSD And What Else To Expect Tonight', 'id': 29072102, 'images': [{'size': 'large', 'url': 'https://cdn.benzinga.com/files/imagecache/2048x1536xUP/images/story/2022/09/30/shutterstock_2207645471.jpg'}, {'size': 'small', 'url': 'https://cdn.benzinga.com/files/imagecache/1024x768xUP/images/story/2022/09/30/shutterstock_2207645471.jpg'}, {'size': 'thumb', 'url': 'https://cdn.benzinga.com/files/imagecache/250x187xUP/images/story/2022/09/30/shutterstock_2207645471.jpg'}], 'source': 'benzinga', 'summary': 'Tesla Inc. (NASDAQ: TSLA) CEO Elon Musk\\xa0and his team are gearing up to host the company’s second AI Day.', 'symbols': ['ABNB', 'TSLA', 'UBER'], 'updated_at': '2022-09-30T10:18:06Z', 'url': 'https://www.benzinga.com/news/22/09/29072102/teslas-ai-day-part-ii-kickstarts-friday-what-investors-should-know'}, {'author': 'Lisa Levin', 'content': '', 'created_at': '2022-09-30T09:22:12Z', 'headline': \"Dow Futures Surge Over 200 Points After Thursday's Sell-Off; Nike Shares Drop After Q1 Results\", 'id': 29090786, 'images': [{'size': 'large', 'url': 'https://cdn.benzinga.com/files/imagecache/2048x1536xUP/images/story/2022/09/30/image33.jpeg'}, {'size': 'small', 'url': 'https://cdn.benzinga.com/files/imagecache/1024x768xUP/images/story/2022/09/30/image33.jpeg'}, {'size': 'thumb', 'url': 'https://cdn.benzinga.com/files/imagecache/250x187xUP/images/story/2022/09/30/image33.jpeg'}], 'source': 'benzinga', 'summary': 'Pre-open movers\\n\\n', 'symbols': ['CCL', 'CIR', 'GOOG', 'GOOGL', 'MU', 'NKE', 'RCII'], 'updated_at': '2022-09-30T09:22:13Z', 'url': 'https://www.benzinga.com/news/earnings/22/09/29090786/dow-futures-surge-over-200-points-after-thursdays-sell-off-nike-shares-drop-after-q1-results'}, {'author': 'Lisa Levin', 'content': '', 'created_at': '2022-09-30T09:22:07Z', 'headline': \"Dow Futures Surge Over 200 Points After Thursday's Sell-Off; Nike Shares Drop After Q1 Results\", 'id': 29090785, 'images': [{'size': 'large', 'url': 'https://cdn.benzinga.com/files/imagecache/2048x1536xUP/images/story/2022/09/30/image33.jpeg'}, {'size': 'small', 'url': 'https://cdn.benzinga.com/files/imagecache/1024x768xUP/images/story/2022/09/30/image33.jpeg'}, {'size': 'thumb', 'url': 'https://cdn.benzinga.com/files/imagecache/250x187xUP/images/story/2022/09/30/image33.jpeg'}], 'source': 'benzinga', 'summary': 'Pre-open movers\\n\\n', 'symbols': ['CCL', 'CIR', 'GOOG', 'GOOGL', 'MU', 'NKE', 'RCII'], 'updated_at': '2022-09-30T09:22:07Z', 'url': 'https://www.benzinga.com/news/earnings/22/09/29090785/dow-futures-surge-over-200-points-after-thursdays-sell-off-nike-shares-drop-after-q1-results'}, {'author': 'Bhavik Nair', 'content': '', 'created_at': '2022-09-30T04:20:17Z', 'headline': \"Google To Shut Down Gaming Service Stadia: Analyst Says Demise Also Casts Doubts On Amazon And Meta's Forays\", 'id': 29089363, 'images': [{'size': 'large', 'url': 'https://cdn.benzinga.com/files/imagecache/2048x1536xUP/images/story/2022/09/30/moises-gonzalez-uxlax47orsc-unsplash.jpg'}, {'size': 'small', 'url': 'https://cdn.benzinga.com/files/imagecache/1024x768xUP/images/story/2022/09/30/moises-gonzalez-uxlax47orsc-unsplash.jpg'}, {'size': 'thumb', 'url': 'https://cdn.benzinga.com/files/imagecache/250x187xUP/images/story/2022/09/30/moises-gonzalez-uxlax47orsc-unsplash.jpg'}], 'source': 'benzinga', 'summary': 'Alphabet Inc’s (NASDAQ: GOOGL) (NASDAQ: GOOG) Google is shutting down its consumer gaming service Stadia as it didn&#39;t\\xa0gain traction with users, the company said in a sta', 'symbols': ['AMZN', 'GOOG', 'GOOGL', 'LOGI', 'META', 'MSFT', 'NVDA', 'QCOM', 'TCEHY', 'VZ'], 'updated_at': '2022-09-30T04:20:18Z', 'url': 'https://www.benzinga.com/general/gaming/22/09/29089363/google-is-shutting-down-its-consumer-gaming-service-stadia-check-out-when-refunds-will-be-processe'}, {'author': 'Shivdeep Dhaliwal', 'content': '', 'created_at': '2022-09-30T02:54:16Z', 'headline': \"Elon Musk's Texts With Jack Dorsey Ahead Of Twitter Deal Revealed: 'Super Interesting Idea, I'd Like To Help If I Am Able To'\", 'id': 29089478, 'images': [{'size': 'large', 'url': 'https://cdn.benzinga.com/files/imagecache/2048x1536xUP/images/story/2022/09/29/elon_musk_12271217906.jpeg'}, {'size': 'small', 'url': 'https://cdn.benzinga.com/files/imagecache/1024x768xUP/images/story/2022/09/29/elon_musk_12271217906.jpeg'}, {'size': 'thumb', 'url': 'https://cdn.benzinga.com/files/imagecache/250x187xUP/images/story/2022/09/29/elon_musk_12271217906.jpeg'}], 'source': 'benzinga', 'summary': 'A trove of messages sent by Elon Musk has emerged leading up to an upcoming trial between Twitter Inc (NYSE: ', 'symbols': ['TSLA', 'TWTR'], 'updated_at': '2022-09-30T02:54:16Z', 'url': 'https://www.benzinga.com/news/22/09/29089478/elon-musks-texts-with-jack-dorsey-revealed-super-interesting-idea-id-like-to-help-if-i-am-able-to'}, {'author': 'Bhavik Nair', 'content': '', 'created_at': '2022-09-30T01:18:16Z', 'headline': 'Cathie Wood Loads Up $12M In Shares Of Software Company Day After It Announced Collaboration With Microsoft', 'id': 29089216, 'images': [{'size': 'large', 'url': 'https://cdn.benzinga.com/files/imagecache/2048x1536xUP/images/story/2022/09/29/shutterstock_1965483289.jpg'}, {'size': 'small', 'url': 'https://cdn.benzinga.com/files/imagecache/1024x768xUP/images/story/2022/09/29/shutterstock_1965483289.jpg'}, {'size': 'thumb', 'url': 'https://cdn.benzinga.com/files/imagecache/250x187xUP/images/story/2022/09/29/shutterstock_1965483289.jpg'}], 'source': 'benzinga', 'summary': 'Cathie Wood’s ARK Investment Management bought over 950,000 shares of software-maker UiPath Inc (NYSE: ', 'symbols': ['ARKK', 'MSFT', 'PATH'], 'updated_at': '2022-09-30T01:18:17Z', 'url': 'https://www.benzinga.com/trading-ideas/long-ideas/22/09/29089216/cathie-wood-makes-huge-purchases-in-this-software-maker-shares-in-september-stock-has-lo'}, {'author': 'Aaron Bry', 'content': '', 'created_at': '2022-09-29T21:50:09Z', 'headline': 'Four Times Elon Musk Has Tried To Play Savior During Disasters', 'id': 29082691, 'images': [{'size': 'large', 'url': 'https://cdn.benzinga.com/files/imagecache/2048x1536xUP/images/story/2022/09/29/elonmusk.png'}, {'size': 'small', 'url': 'https://cdn.benzinga.com/files/imagecache/1024x768xUP/images/story/2022/09/29/elonmusk.png'}, {'size': 'thumb', 'url': 'https://cdn.benzinga.com/files/imagecache/250x187xUP/images/story/2022/09/29/elonmusk.png'}], 'source': 'benzinga', 'summary': 'Elon Musk has a knack for portraying himself as a hero in times of crisis. Today, the\\xa0Tesla Inc (NASDAQ: TSLA) CEO tweeted amid the ongoing floods and hurricane damage in Florida that Cybertrucks can “briefly serve as a boat.”', 'symbols': ['TSLA'], 'updated_at': '2022-09-29T21:52:49Z', 'url': 'https://www.benzinga.com/general/22/09/29082691/three-times-elon-musk-has-tried-to-play-savior-during-disasters'}, {'author': 'Michael Horton', 'content': '', 'created_at': '2022-09-29T19:18:17Z', 'headline': 'Top 15 Trending Stocks On WallStreetBets As Of Thursday, September 29, 2022 (Via Swaggy Stocks)', 'id': 29084894, 'images': [], 'source': 'benzinga', 'summary': '', 'symbols': ['AAPL', 'AI', 'AMD', 'AMZN', 'BBBY', 'GLD', 'GME', 'META', 'MU', 'NFLX', 'NVDA', 'PLTR', 'QQQ', 'TQQQ', 'TSLA'], 'updated_at': '2022-09-29T19:18:18Z', 'url': 'https://www.benzinga.com/trading-ideas/22/09/29084894/top-15-trending-stocks-on-wallstreetbets-as-of-thursday-september-29-2022-via-swaggy-stocks'}, {'author': 'Benzinga Insights', 'content': '', 'created_at': '2022-09-29T17:41:13Z', 'headline': \"10 Consumer Discretionary Stocks Whale Activity In Today's Session\", 'id': 29082163, 'images': [{'size': 'large', 'url': 'https://cdn.benzinga.com/files/imagecache/2048x1536xUP/images/story/2022/options_image_2128.jpeg'}, {'size': 'small', 'url': 'https://cdn.benzinga.com/files/imagecache/1024x768xUP/images/story/2022/options_image_2128.jpeg'}, {'size': 'thumb', 'url': 'https://cdn.benzinga.com/files/imagecache/250x187xUP/images/story/2022/options_image_2128.jpeg'}], 'source': 'benzinga', 'summary': ' This whale alert can help traders discover the next big trading opportunities.\\nWhales are entities with large sums of money and we track their transactions here at Benzinga on our options activity scanner.', 'symbols': ['ABNB', 'AMZN', 'BBBY', 'CCL', 'FTCH', 'GM', 'GME', 'NKE', 'RCL', 'TSLA'], 'updated_at': '2022-09-29T17:41:14Z', 'url': 'https://www.benzinga.com/markets/options/22/09/29082163/10-consumer-discretionary-stocks-whale-activity-in-todays-session'}], 'next_page_token': 'MTY2NDQ3MzI3NDAwMDAwMDAwMHwyOTA4MjE2Mw=='}\n"
     ]
    }
   ],
   "source": [
    "symbols = \"TSLA,GOOG,MSFT\"\n",
    "start_date = \"2018-09-01T00:00:00Z\"\n",
    "end_date = \"2022-09-30T11:59:59Z\"\n",
    "url = f'https://data.alpaca.markets/v1beta1/news?start={start_date}&end={end_date}&symbols={symbols}'\n",
    "headers = {'content-type': 'application/json', 'Apca-Api-Key-Id': data[\"KEY\"], 'Apca-Api-Secret-Key': data[\"SECRET_KEY\"]}\n",
    "response = requests.get(url, headers=headers)\n",
    "response_dict = json.loads(response.text)\n",
    "\n",
    "print(f'Number of Articles: {len(response_dict[\"news\"])}')\n",
    "print(response_dict)"
   ]
  },
  {
   "cell_type": "markdown",
   "id": "61f704df",
   "metadata": {},
   "source": [
    "Since the API returns 10 articles, for multi-symbol and single requests, we will loop through a list of tickers and use single requests so we can add the stock we are requesting as a column to the dictionary."
   ]
  },
  {
   "cell_type": "code",
   "execution_count": 48,
   "id": "6ca8c3b5",
   "metadata": {},
   "outputs": [
    {
     "name": "stdout",
     "output_type": "stream",
     "text": [
      "{'news': [], 'next_page_token': None}\n"
     ]
    }
   ],
   "source": [
    "#test response when no articles are found\n",
    "symbols = \"TSLA\"\n",
    "start_date = \"1990-09-01T00:00:00Z\"\n",
    "end_date = \"1991-09-30T11:59:59Z\"\n",
    "url = f'https://data.alpaca.markets/v1beta1/news?start={start_date}&end={end_date}&symbols={symbols}'\n",
    "headers = {'content-type': 'application/json', 'Apca-Api-Key-Id': data[\"KEY\"], 'Apca-Api-Secret-Key': data[\"SECRET_KEY\"]}\n",
    "response = requests.get(url, headers=headers)\n",
    "response_dict = json.loads(response.text)\n",
    "print(response_dict)"
   ]
  },
  {
   "cell_type": "code",
   "execution_count": 25,
   "id": "6c0ae350",
   "metadata": {},
   "outputs": [
    {
     "data": {
      "text/html": [
       "<div>\n",
       "<style scoped>\n",
       "    .dataframe tbody tr th:only-of-type {\n",
       "        vertical-align: middle;\n",
       "    }\n",
       "\n",
       "    .dataframe tbody tr th {\n",
       "        vertical-align: top;\n",
       "    }\n",
       "\n",
       "    .dataframe thead th {\n",
       "        text-align: right;\n",
       "    }\n",
       "</style>\n",
       "<table border=\"1\" class=\"dataframe\">\n",
       "  <thead>\n",
       "    <tr style=\"text-align: right;\">\n",
       "      <th></th>\n",
       "      <th>author</th>\n",
       "      <th>content</th>\n",
       "      <th>created_at</th>\n",
       "      <th>headline</th>\n",
       "      <th>id</th>\n",
       "      <th>source</th>\n",
       "      <th>summary</th>\n",
       "      <th>symbols</th>\n",
       "      <th>updated_at</th>\n",
       "      <th>url</th>\n",
       "    </tr>\n",
       "  </thead>\n",
       "  <tbody>\n",
       "    <tr>\n",
       "      <th>0</th>\n",
       "      <td>Charles Gross</td>\n",
       "      <td></td>\n",
       "      <td>2019-09-28T22:59:07Z</td>\n",
       "      <td>First Report Of Accident With Tesla Smart Summ...</td>\n",
       "      <td>14509938</td>\n",
       "      <td></td>\n",
       "      <td></td>\n",
       "      <td>[TSLA]</td>\n",
       "      <td>2019-09-28T22:59:07Z</td>\n",
       "      <td>https://www.benzinga.com/node/14509938</td>\n",
       "    </tr>\n",
       "    <tr>\n",
       "      <th>1</th>\n",
       "      <td>Nelson Hem</td>\n",
       "      <td></td>\n",
       "      <td>2019-09-28T19:22:32Z</td>\n",
       "      <td>Barron's Picks And Pans: American Airlines, Ch...</td>\n",
       "      <td>14509839</td>\n",
       "      <td></td>\n",
       "      <td></td>\n",
       "      <td>[AAL, AMGN, CMG, DUK, GM, NFLX, PTON, TSLA, WF...</td>\n",
       "      <td>2019-09-28T19:22:33Z</td>\n",
       "      <td>https://www.benzinga.com/node/14509839</td>\n",
       "    </tr>\n",
       "    <tr>\n",
       "      <th>2</th>\n",
       "      <td>Benzinga Newsdesk</td>\n",
       "      <td></td>\n",
       "      <td>2019-09-27T19:10:28Z</td>\n",
       "      <td>'Tesla To Set Model 3 Sales Record In The Neth...</td>\n",
       "      <td>14507605</td>\n",
       "      <td></td>\n",
       "      <td></td>\n",
       "      <td>[TSLA]</td>\n",
       "      <td>2019-09-27T19:10:29Z</td>\n",
       "      <td>https://www.benzinga.com/node/14507605</td>\n",
       "    </tr>\n",
       "    <tr>\n",
       "      <th>3</th>\n",
       "      <td>Sebastian Brown</td>\n",
       "      <td></td>\n",
       "      <td>2019-09-27T19:08:29Z</td>\n",
       "      <td>A Look At Benzinga Pro's Most-Searched Tickers...</td>\n",
       "      <td>14506031</td>\n",
       "      <td></td>\n",
       "      <td></td>\n",
       "      <td>[BYND, CCL, DIS, MRNS, MU, PRPO, PTON, RAD, SQ...</td>\n",
       "      <td>2019-09-27T19:08:29Z</td>\n",
       "      <td>https://www.benzinga.com/node/14506031</td>\n",
       "    </tr>\n",
       "    <tr>\n",
       "      <th>4</th>\n",
       "      <td>Shanthi Rexaline</td>\n",
       "      <td></td>\n",
       "      <td>2019-09-27T17:51:36Z</td>\n",
       "      <td>Tesla Analyst: September Rally In Deliveries C...</td>\n",
       "      <td>14499089</td>\n",
       "      <td></td>\n",
       "      <td></td>\n",
       "      <td>[NIO, TSLA]</td>\n",
       "      <td>2019-09-27T17:51:37Z</td>\n",
       "      <td>https://www.benzinga.com/node/14499089</td>\n",
       "    </tr>\n",
       "    <tr>\n",
       "      <th>5</th>\n",
       "      <td>Benzinga Newsdesk</td>\n",
       "      <td></td>\n",
       "      <td>2019-09-27T13:57:36Z</td>\n",
       "      <td>Benzinga Pro's Top 10 Most-Searched Tickers Fo...</td>\n",
       "      <td>14504871</td>\n",
       "      <td></td>\n",
       "      <td></td>\n",
       "      <td>[BYND, CCL, DIS, MRNS, MU, PRPO, PTON, RAD, SQ...</td>\n",
       "      <td>2019-09-27T13:57:37Z</td>\n",
       "      <td>https://www.benzinga.com/node/14504871</td>\n",
       "    </tr>\n",
       "    <tr>\n",
       "      <th>6</th>\n",
       "      <td>Benzinga Newsdesk</td>\n",
       "      <td></td>\n",
       "      <td>2019-09-26T19:19:41Z</td>\n",
       "      <td>Tesla To LAunch Tesla Theater With IQIYI And T...</td>\n",
       "      <td>14500309</td>\n",
       "      <td></td>\n",
       "      <td></td>\n",
       "      <td>[IQ, SPOT, TSLA]</td>\n",
       "      <td>2019-09-26T19:19:41Z</td>\n",
       "      <td>https://www.benzinga.com/node/14500309</td>\n",
       "    </tr>\n",
       "    <tr>\n",
       "      <th>7</th>\n",
       "      <td>Benzinga Newsdesk</td>\n",
       "      <td></td>\n",
       "      <td>2019-09-26T17:19:27Z</td>\n",
       "      <td>'Tesla 'has a shot' at record 100,000 cars thi...</td>\n",
       "      <td>14499420</td>\n",
       "      <td></td>\n",
       "      <td></td>\n",
       "      <td>[TSLA]</td>\n",
       "      <td>2019-09-26T17:19:27Z</td>\n",
       "      <td>https://www.benzinga.com/node/14499420</td>\n",
       "    </tr>\n",
       "    <tr>\n",
       "      <th>8</th>\n",
       "      <td>Benzinga Newsdesk</td>\n",
       "      <td></td>\n",
       "      <td>2019-09-26T16:14:52Z</td>\n",
       "      <td>'Tesla produces complete Model 3 body-in-white...</td>\n",
       "      <td>14498733</td>\n",
       "      <td></td>\n",
       "      <td></td>\n",
       "      <td>[TSLA]</td>\n",
       "      <td>2019-09-26T16:14:53Z</td>\n",
       "      <td>https://www.benzinga.com/node/14498733</td>\n",
       "    </tr>\n",
       "    <tr>\n",
       "      <th>9</th>\n",
       "      <td>Benzinga Newsdesk</td>\n",
       "      <td></td>\n",
       "      <td>2019-09-26T14:30:31Z</td>\n",
       "      <td>'Tesla starts wider release of V10, and it fin...</td>\n",
       "      <td>14497493</td>\n",
       "      <td></td>\n",
       "      <td></td>\n",
       "      <td>[SPOT, TSLA]</td>\n",
       "      <td>2019-09-26T14:30:31Z</td>\n",
       "      <td>https://www.benzinga.com/node/14497493</td>\n",
       "    </tr>\n",
       "  </tbody>\n",
       "</table>\n",
       "</div>"
      ],
      "text/plain": [
       "              author content            created_at  \\\n",
       "0      Charles Gross          2019-09-28T22:59:07Z   \n",
       "1         Nelson Hem          2019-09-28T19:22:32Z   \n",
       "2  Benzinga Newsdesk          2019-09-27T19:10:28Z   \n",
       "3    Sebastian Brown          2019-09-27T19:08:29Z   \n",
       "4   Shanthi Rexaline          2019-09-27T17:51:36Z   \n",
       "5  Benzinga Newsdesk          2019-09-27T13:57:36Z   \n",
       "6  Benzinga Newsdesk          2019-09-26T19:19:41Z   \n",
       "7  Benzinga Newsdesk          2019-09-26T17:19:27Z   \n",
       "8  Benzinga Newsdesk          2019-09-26T16:14:52Z   \n",
       "9  Benzinga Newsdesk          2019-09-26T14:30:31Z   \n",
       "\n",
       "                                            headline        id source summary  \\\n",
       "0  First Report Of Accident With Tesla Smart Summ...  14509938                  \n",
       "1  Barron's Picks And Pans: American Airlines, Ch...  14509839                  \n",
       "2  'Tesla To Set Model 3 Sales Record In The Neth...  14507605                  \n",
       "3  A Look At Benzinga Pro's Most-Searched Tickers...  14506031                  \n",
       "4  Tesla Analyst: September Rally In Deliveries C...  14499089                  \n",
       "5  Benzinga Pro's Top 10 Most-Searched Tickers Fo...  14504871                  \n",
       "6  Tesla To LAunch Tesla Theater With IQIYI And T...  14500309                  \n",
       "7  'Tesla 'has a shot' at record 100,000 cars thi...  14499420                  \n",
       "8  'Tesla produces complete Model 3 body-in-white...  14498733                  \n",
       "9  'Tesla starts wider release of V10, and it fin...  14497493                  \n",
       "\n",
       "                                             symbols            updated_at  \\\n",
       "0                                             [TSLA]  2019-09-28T22:59:07Z   \n",
       "1  [AAL, AMGN, CMG, DUK, GM, NFLX, PTON, TSLA, WF...  2019-09-28T19:22:33Z   \n",
       "2                                             [TSLA]  2019-09-27T19:10:29Z   \n",
       "3  [BYND, CCL, DIS, MRNS, MU, PRPO, PTON, RAD, SQ...  2019-09-27T19:08:29Z   \n",
       "4                                        [NIO, TSLA]  2019-09-27T17:51:37Z   \n",
       "5  [BYND, CCL, DIS, MRNS, MU, PRPO, PTON, RAD, SQ...  2019-09-27T13:57:37Z   \n",
       "6                                   [IQ, SPOT, TSLA]  2019-09-26T19:19:41Z   \n",
       "7                                             [TSLA]  2019-09-26T17:19:27Z   \n",
       "8                                             [TSLA]  2019-09-26T16:14:53Z   \n",
       "9                                       [SPOT, TSLA]  2019-09-26T14:30:31Z   \n",
       "\n",
       "                                      url  \n",
       "0  https://www.benzinga.com/node/14509938  \n",
       "1  https://www.benzinga.com/node/14509839  \n",
       "2  https://www.benzinga.com/node/14507605  \n",
       "3  https://www.benzinga.com/node/14506031  \n",
       "4  https://www.benzinga.com/node/14499089  \n",
       "5  https://www.benzinga.com/node/14504871  \n",
       "6  https://www.benzinga.com/node/14500309  \n",
       "7  https://www.benzinga.com/node/14499420  \n",
       "8  https://www.benzinga.com/node/14498733  \n",
       "9  https://www.benzinga.com/node/14497493  "
      ]
     },
     "execution_count": 25,
     "metadata": {},
     "output_type": "execute_result"
    }
   ],
   "source": [
    "news_dict = {\n",
    "    \"author\": [],\n",
    "    \"content\": [],\n",
    "    \"created_at\": [],\n",
    "    \"headline\": [],\n",
    "    \"id\": [],\n",
    "    \"source\": [],\n",
    "    \"summary\": [],\n",
    "    \"symbols\": [],\n",
    "    \"updated_at\": [],\n",
    "    \"url\": [],\n",
    "    \"requested_TICKER\": []\n",
    "}\n",
    "\n",
    "for article in response_dict[\"news\"]:\n",
    "    news_dict[\"author\"].append(article[\"author\"])\n",
    "    news_dict[\"content\"].append(article[\"content\"])\n",
    "    news_dict[\"created_at\"].append(article[\"created_at\"])\n",
    "    news_dict[\"headline\"].append(article[\"headline\"])\n",
    "    news_dict[\"id\"].append(article[\"id\"])\n",
    "    news_dict[\"source\"].append(article[\"source\"])\n",
    "    news_dict[\"summary\"].append(article[\"summary\"])\n",
    "    news_dict[\"symbols\"].append(article[\"symbols\"])\n",
    "    news_dict[\"updated_at\"].append(article[\"updated_at\"])\n",
    "    news_dict[\"url\"].append(article[\"url\"])\n",
    "    \n",
    "    \n",
    "\n",
    "pd.DataFrame(news_dict)"
   ]
  },
  {
   "cell_type": "code",
   "execution_count": 89,
   "id": "f8fc899d",
   "metadata": {},
   "outputs": [],
   "source": [
    "#create function to get recursively pull news articles bc we are limited to 10 per request\n",
    "import datetime\n",
    "\n",
    "def pull_news(ticker, start_date, end_date, headers, news_dict, rate_limit=10):\n",
    "        print(news_dict)\n",
    "        url = f'https://data.alpaca.markets/v1beta1/news?start={start_date}&end={end_date}&symbols={symbol}'\n",
    "        response = requests.get(url, headers=headers)\n",
    "#         print(f'________________________________Response: {response}_____________________________________')\n",
    "        rate_limit -= 1\n",
    "#         print(f\"________________________________Rate Limit: {rate_limit}________________________________\")\n",
    "        response_dict = json.loads(response.text)\n",
    "        if response_dict[\"news\"]:\n",
    "            for article in response_dict[\"news\"]:\n",
    "                news_dict[\"author\"].append(article[\"author\"])\n",
    "                news_dict[\"content\"].append(article[\"content\"])\n",
    "                news_dict[\"created_at\"].append(article[\"created_at\"])\n",
    "                news_dict[\"headline\"].append(article[\"headline\"])\n",
    "                news_dict[\"id\"].append(article[\"id\"])\n",
    "                news_dict[\"source\"].append(article[\"source\"])\n",
    "                news_dict[\"summary\"].append(article[\"summary\"])\n",
    "                news_dict[\"symbols\"].append(article[\"symbols\"])\n",
    "                news_dict[\"updated_at\"].append(article[\"updated_at\"])\n",
    "                news_dict[\"url\"].append(article[\"url\"])\n",
    "                news_dict[\"requested_TICKER\"].append(ticker)\n",
    "                \n",
    "            end_date=response_dict[\"news\"][-1][\"created_at\"]\n",
    "            \n",
    "            if rate_limit>0:\n",
    "                print(f\"\\n\\n{ticker} || {start_date} || {end_date} || {rate_limit}\\n\\n\")\n",
    "                pull_news(ticker, start_date, end_date, headers, news_dict, rate_limit-1)   \n",
    "            else:\n",
    "                return ticker, start_date, end_date, headers, news_dict, rate_limit"
   ]
  },
  {
   "cell_type": "code",
   "execution_count": 92,
   "id": "4b5e4370",
   "metadata": {},
   "outputs": [
    {
     "name": "stdout",
     "output_type": "stream",
     "text": [
      "{'author': [], 'content': [], 'created_at': [], 'headline': [], 'id': [], 'source': [], 'summary': [], 'symbols': [], 'updated_at': [], 'url': [], 'requested_TICKER': []}\n"
     ]
    },
    {
     "ename": "ConnectionError",
     "evalue": "HTTPSConnectionPool(host='data.alpaca.markets', port=443): Max retries exceeded with url: /v1beta1/news?start=2018-09-01T00:00:00Z&end=2022-09-30T11:59:59Z&symbols=SPY (Caused by NewConnectionError('<urllib3.connection.HTTPSConnection object at 0x7fd42a12f2e0>: Failed to establish a new connection: [Errno 8] nodename nor servname provided, or not known'))",
     "output_type": "error",
     "traceback": [
      "\u001b[0;31m---------------------------------------------------------------------------\u001b[0m",
      "\u001b[0;31mgaierror\u001b[0m                                  Traceback (most recent call last)",
      "\u001b[0;32m~/opt/anaconda3/lib/python3.9/site-packages/urllib3/connection.py\u001b[0m in \u001b[0;36m_new_conn\u001b[0;34m(self)\u001b[0m\n\u001b[1;32m    173\u001b[0m         \u001b[0;32mtry\u001b[0m\u001b[0;34m:\u001b[0m\u001b[0;34m\u001b[0m\u001b[0;34m\u001b[0m\u001b[0m\n\u001b[0;32m--> 174\u001b[0;31m             conn = connection.create_connection(\n\u001b[0m\u001b[1;32m    175\u001b[0m                 \u001b[0;34m(\u001b[0m\u001b[0mself\u001b[0m\u001b[0;34m.\u001b[0m\u001b[0m_dns_host\u001b[0m\u001b[0;34m,\u001b[0m \u001b[0mself\u001b[0m\u001b[0;34m.\u001b[0m\u001b[0mport\u001b[0m\u001b[0;34m)\u001b[0m\u001b[0;34m,\u001b[0m \u001b[0mself\u001b[0m\u001b[0;34m.\u001b[0m\u001b[0mtimeout\u001b[0m\u001b[0;34m,\u001b[0m \u001b[0;34m**\u001b[0m\u001b[0mextra_kw\u001b[0m\u001b[0;34m\u001b[0m\u001b[0;34m\u001b[0m\u001b[0m\n",
      "\u001b[0;32m~/opt/anaconda3/lib/python3.9/site-packages/urllib3/util/connection.py\u001b[0m in \u001b[0;36mcreate_connection\u001b[0;34m(address, timeout, source_address, socket_options)\u001b[0m\n\u001b[1;32m     72\u001b[0m \u001b[0;34m\u001b[0m\u001b[0m\n\u001b[0;32m---> 73\u001b[0;31m     \u001b[0;32mfor\u001b[0m \u001b[0mres\u001b[0m \u001b[0;32min\u001b[0m \u001b[0msocket\u001b[0m\u001b[0;34m.\u001b[0m\u001b[0mgetaddrinfo\u001b[0m\u001b[0;34m(\u001b[0m\u001b[0mhost\u001b[0m\u001b[0;34m,\u001b[0m \u001b[0mport\u001b[0m\u001b[0;34m,\u001b[0m \u001b[0mfamily\u001b[0m\u001b[0;34m,\u001b[0m \u001b[0msocket\u001b[0m\u001b[0;34m.\u001b[0m\u001b[0mSOCK_STREAM\u001b[0m\u001b[0;34m)\u001b[0m\u001b[0;34m:\u001b[0m\u001b[0;34m\u001b[0m\u001b[0;34m\u001b[0m\u001b[0m\n\u001b[0m\u001b[1;32m     74\u001b[0m         \u001b[0maf\u001b[0m\u001b[0;34m,\u001b[0m \u001b[0msocktype\u001b[0m\u001b[0;34m,\u001b[0m \u001b[0mproto\u001b[0m\u001b[0;34m,\u001b[0m \u001b[0mcanonname\u001b[0m\u001b[0;34m,\u001b[0m \u001b[0msa\u001b[0m \u001b[0;34m=\u001b[0m \u001b[0mres\u001b[0m\u001b[0;34m\u001b[0m\u001b[0;34m\u001b[0m\u001b[0m\n",
      "\u001b[0;32m~/opt/anaconda3/lib/python3.9/socket.py\u001b[0m in \u001b[0;36mgetaddrinfo\u001b[0;34m(host, port, family, type, proto, flags)\u001b[0m\n\u001b[1;32m    953\u001b[0m     \u001b[0maddrlist\u001b[0m \u001b[0;34m=\u001b[0m \u001b[0;34m[\u001b[0m\u001b[0;34m]\u001b[0m\u001b[0;34m\u001b[0m\u001b[0;34m\u001b[0m\u001b[0m\n\u001b[0;32m--> 954\u001b[0;31m     \u001b[0;32mfor\u001b[0m \u001b[0mres\u001b[0m \u001b[0;32min\u001b[0m \u001b[0m_socket\u001b[0m\u001b[0;34m.\u001b[0m\u001b[0mgetaddrinfo\u001b[0m\u001b[0;34m(\u001b[0m\u001b[0mhost\u001b[0m\u001b[0;34m,\u001b[0m \u001b[0mport\u001b[0m\u001b[0;34m,\u001b[0m \u001b[0mfamily\u001b[0m\u001b[0;34m,\u001b[0m \u001b[0mtype\u001b[0m\u001b[0;34m,\u001b[0m \u001b[0mproto\u001b[0m\u001b[0;34m,\u001b[0m \u001b[0mflags\u001b[0m\u001b[0;34m)\u001b[0m\u001b[0;34m:\u001b[0m\u001b[0;34m\u001b[0m\u001b[0;34m\u001b[0m\u001b[0m\n\u001b[0m\u001b[1;32m    955\u001b[0m         \u001b[0maf\u001b[0m\u001b[0;34m,\u001b[0m \u001b[0msocktype\u001b[0m\u001b[0;34m,\u001b[0m \u001b[0mproto\u001b[0m\u001b[0;34m,\u001b[0m \u001b[0mcanonname\u001b[0m\u001b[0;34m,\u001b[0m \u001b[0msa\u001b[0m \u001b[0;34m=\u001b[0m \u001b[0mres\u001b[0m\u001b[0;34m\u001b[0m\u001b[0;34m\u001b[0m\u001b[0m\n",
      "\u001b[0;31mgaierror\u001b[0m: [Errno 8] nodename nor servname provided, or not known",
      "\nDuring handling of the above exception, another exception occurred:\n",
      "\u001b[0;31mNewConnectionError\u001b[0m                        Traceback (most recent call last)",
      "\u001b[0;32m~/opt/anaconda3/lib/python3.9/site-packages/urllib3/connectionpool.py\u001b[0m in \u001b[0;36murlopen\u001b[0;34m(self, method, url, body, headers, retries, redirect, assert_same_host, timeout, pool_timeout, release_conn, chunked, body_pos, **response_kw)\u001b[0m\n\u001b[1;32m    698\u001b[0m             \u001b[0;31m# Make the request on the httplib connection object.\u001b[0m\u001b[0;34m\u001b[0m\u001b[0;34m\u001b[0m\u001b[0m\n\u001b[0;32m--> 699\u001b[0;31m             httplib_response = self._make_request(\n\u001b[0m\u001b[1;32m    700\u001b[0m                 \u001b[0mconn\u001b[0m\u001b[0;34m,\u001b[0m\u001b[0;34m\u001b[0m\u001b[0;34m\u001b[0m\u001b[0m\n",
      "\u001b[0;32m~/opt/anaconda3/lib/python3.9/site-packages/urllib3/connectionpool.py\u001b[0m in \u001b[0;36m_make_request\u001b[0;34m(self, conn, method, url, timeout, chunked, **httplib_request_kw)\u001b[0m\n\u001b[1;32m    381\u001b[0m         \u001b[0;32mtry\u001b[0m\u001b[0;34m:\u001b[0m\u001b[0;34m\u001b[0m\u001b[0;34m\u001b[0m\u001b[0m\n\u001b[0;32m--> 382\u001b[0;31m             \u001b[0mself\u001b[0m\u001b[0;34m.\u001b[0m\u001b[0m_validate_conn\u001b[0m\u001b[0;34m(\u001b[0m\u001b[0mconn\u001b[0m\u001b[0;34m)\u001b[0m\u001b[0;34m\u001b[0m\u001b[0;34m\u001b[0m\u001b[0m\n\u001b[0m\u001b[1;32m    383\u001b[0m         \u001b[0;32mexcept\u001b[0m \u001b[0;34m(\u001b[0m\u001b[0mSocketTimeout\u001b[0m\u001b[0;34m,\u001b[0m \u001b[0mBaseSSLError\u001b[0m\u001b[0;34m)\u001b[0m \u001b[0;32mas\u001b[0m \u001b[0me\u001b[0m\u001b[0;34m:\u001b[0m\u001b[0;34m\u001b[0m\u001b[0;34m\u001b[0m\u001b[0m\n",
      "\u001b[0;32m~/opt/anaconda3/lib/python3.9/site-packages/urllib3/connectionpool.py\u001b[0m in \u001b[0;36m_validate_conn\u001b[0;34m(self, conn)\u001b[0m\n\u001b[1;32m   1009\u001b[0m         \u001b[0;32mif\u001b[0m \u001b[0;32mnot\u001b[0m \u001b[0mgetattr\u001b[0m\u001b[0;34m(\u001b[0m\u001b[0mconn\u001b[0m\u001b[0;34m,\u001b[0m \u001b[0;34m\"sock\"\u001b[0m\u001b[0;34m,\u001b[0m \u001b[0;32mNone\u001b[0m\u001b[0;34m)\u001b[0m\u001b[0;34m:\u001b[0m  \u001b[0;31m# AppEngine might not have  `.sock`\u001b[0m\u001b[0;34m\u001b[0m\u001b[0;34m\u001b[0m\u001b[0m\n\u001b[0;32m-> 1010\u001b[0;31m             \u001b[0mconn\u001b[0m\u001b[0;34m.\u001b[0m\u001b[0mconnect\u001b[0m\u001b[0;34m(\u001b[0m\u001b[0;34m)\u001b[0m\u001b[0;34m\u001b[0m\u001b[0;34m\u001b[0m\u001b[0m\n\u001b[0m\u001b[1;32m   1011\u001b[0m \u001b[0;34m\u001b[0m\u001b[0m\n",
      "\u001b[0;32m~/opt/anaconda3/lib/python3.9/site-packages/urllib3/connection.py\u001b[0m in \u001b[0;36mconnect\u001b[0;34m(self)\u001b[0m\n\u001b[1;32m    357\u001b[0m         \u001b[0;31m# Add certificate verification\u001b[0m\u001b[0;34m\u001b[0m\u001b[0;34m\u001b[0m\u001b[0m\n\u001b[0;32m--> 358\u001b[0;31m         \u001b[0mconn\u001b[0m \u001b[0;34m=\u001b[0m \u001b[0mself\u001b[0m\u001b[0;34m.\u001b[0m\u001b[0m_new_conn\u001b[0m\u001b[0;34m(\u001b[0m\u001b[0;34m)\u001b[0m\u001b[0;34m\u001b[0m\u001b[0;34m\u001b[0m\u001b[0m\n\u001b[0m\u001b[1;32m    359\u001b[0m         \u001b[0mhostname\u001b[0m \u001b[0;34m=\u001b[0m \u001b[0mself\u001b[0m\u001b[0;34m.\u001b[0m\u001b[0mhost\u001b[0m\u001b[0;34m\u001b[0m\u001b[0;34m\u001b[0m\u001b[0m\n",
      "\u001b[0;32m~/opt/anaconda3/lib/python3.9/site-packages/urllib3/connection.py\u001b[0m in \u001b[0;36m_new_conn\u001b[0;34m(self)\u001b[0m\n\u001b[1;32m    185\u001b[0m         \u001b[0;32mexcept\u001b[0m \u001b[0mSocketError\u001b[0m \u001b[0;32mas\u001b[0m \u001b[0me\u001b[0m\u001b[0;34m:\u001b[0m\u001b[0;34m\u001b[0m\u001b[0;34m\u001b[0m\u001b[0m\n\u001b[0;32m--> 186\u001b[0;31m             raise NewConnectionError(\n\u001b[0m\u001b[1;32m    187\u001b[0m                 \u001b[0mself\u001b[0m\u001b[0;34m,\u001b[0m \u001b[0;34m\"Failed to establish a new connection: %s\"\u001b[0m \u001b[0;34m%\u001b[0m \u001b[0me\u001b[0m\u001b[0;34m\u001b[0m\u001b[0;34m\u001b[0m\u001b[0m\n",
      "\u001b[0;31mNewConnectionError\u001b[0m: <urllib3.connection.HTTPSConnection object at 0x7fd42a12f2e0>: Failed to establish a new connection: [Errno 8] nodename nor servname provided, or not known",
      "\nDuring handling of the above exception, another exception occurred:\n",
      "\u001b[0;31mMaxRetryError\u001b[0m                             Traceback (most recent call last)",
      "\u001b[0;32m~/opt/anaconda3/lib/python3.9/site-packages/requests/adapters.py\u001b[0m in \u001b[0;36msend\u001b[0;34m(self, request, stream, timeout, verify, cert, proxies)\u001b[0m\n\u001b[1;32m    488\u001b[0m             \u001b[0;32mif\u001b[0m \u001b[0;32mnot\u001b[0m \u001b[0mchunked\u001b[0m\u001b[0;34m:\u001b[0m\u001b[0;34m\u001b[0m\u001b[0;34m\u001b[0m\u001b[0m\n\u001b[0;32m--> 489\u001b[0;31m                 resp = conn.urlopen(\n\u001b[0m\u001b[1;32m    490\u001b[0m                     \u001b[0mmethod\u001b[0m\u001b[0;34m=\u001b[0m\u001b[0mrequest\u001b[0m\u001b[0;34m.\u001b[0m\u001b[0mmethod\u001b[0m\u001b[0;34m,\u001b[0m\u001b[0;34m\u001b[0m\u001b[0;34m\u001b[0m\u001b[0m\n",
      "\u001b[0;32m~/opt/anaconda3/lib/python3.9/site-packages/urllib3/connectionpool.py\u001b[0m in \u001b[0;36murlopen\u001b[0;34m(self, method, url, body, headers, retries, redirect, assert_same_host, timeout, pool_timeout, release_conn, chunked, body_pos, **response_kw)\u001b[0m\n\u001b[1;32m    754\u001b[0m \u001b[0;34m\u001b[0m\u001b[0m\n\u001b[0;32m--> 755\u001b[0;31m             retries = retries.increment(\n\u001b[0m\u001b[1;32m    756\u001b[0m                 \u001b[0mmethod\u001b[0m\u001b[0;34m,\u001b[0m \u001b[0murl\u001b[0m\u001b[0;34m,\u001b[0m \u001b[0merror\u001b[0m\u001b[0;34m=\u001b[0m\u001b[0me\u001b[0m\u001b[0;34m,\u001b[0m \u001b[0m_pool\u001b[0m\u001b[0;34m=\u001b[0m\u001b[0mself\u001b[0m\u001b[0;34m,\u001b[0m \u001b[0m_stacktrace\u001b[0m\u001b[0;34m=\u001b[0m\u001b[0msys\u001b[0m\u001b[0;34m.\u001b[0m\u001b[0mexc_info\u001b[0m\u001b[0;34m(\u001b[0m\u001b[0;34m)\u001b[0m\u001b[0;34m[\u001b[0m\u001b[0;36m2\u001b[0m\u001b[0;34m]\u001b[0m\u001b[0;34m\u001b[0m\u001b[0;34m\u001b[0m\u001b[0m\n",
      "\u001b[0;32m~/opt/anaconda3/lib/python3.9/site-packages/urllib3/util/retry.py\u001b[0m in \u001b[0;36mincrement\u001b[0;34m(self, method, url, response, error, _pool, _stacktrace)\u001b[0m\n\u001b[1;32m    573\u001b[0m         \u001b[0;32mif\u001b[0m \u001b[0mnew_retry\u001b[0m\u001b[0;34m.\u001b[0m\u001b[0mis_exhausted\u001b[0m\u001b[0;34m(\u001b[0m\u001b[0;34m)\u001b[0m\u001b[0;34m:\u001b[0m\u001b[0;34m\u001b[0m\u001b[0;34m\u001b[0m\u001b[0m\n\u001b[0;32m--> 574\u001b[0;31m             \u001b[0;32mraise\u001b[0m \u001b[0mMaxRetryError\u001b[0m\u001b[0;34m(\u001b[0m\u001b[0m_pool\u001b[0m\u001b[0;34m,\u001b[0m \u001b[0murl\u001b[0m\u001b[0;34m,\u001b[0m \u001b[0merror\u001b[0m \u001b[0;32mor\u001b[0m \u001b[0mResponseError\u001b[0m\u001b[0;34m(\u001b[0m\u001b[0mcause\u001b[0m\u001b[0;34m)\u001b[0m\u001b[0;34m)\u001b[0m\u001b[0;34m\u001b[0m\u001b[0;34m\u001b[0m\u001b[0m\n\u001b[0m\u001b[1;32m    575\u001b[0m \u001b[0;34m\u001b[0m\u001b[0m\n",
      "\u001b[0;31mMaxRetryError\u001b[0m: HTTPSConnectionPool(host='data.alpaca.markets', port=443): Max retries exceeded with url: /v1beta1/news?start=2018-09-01T00:00:00Z&end=2022-09-30T11:59:59Z&symbols=SPY (Caused by NewConnectionError('<urllib3.connection.HTTPSConnection object at 0x7fd42a12f2e0>: Failed to establish a new connection: [Errno 8] nodename nor servname provided, or not known'))",
      "\nDuring handling of the above exception, another exception occurred:\n",
      "\u001b[0;31mConnectionError\u001b[0m                           Traceback (most recent call last)",
      "\u001b[0;32m/var/folders/hn/vdq8ffhj0zq9blr74w80pr180000gn/T/ipykernel_1168/2909783180.py\u001b[0m in \u001b[0;36m<module>\u001b[0;34m\u001b[0m\n\u001b[1;32m     15\u001b[0m }\n\u001b[1;32m     16\u001b[0m \u001b[0;34m\u001b[0m\u001b[0m\n\u001b[0;32m---> 17\u001b[0;31m \u001b[0mprint\u001b[0m\u001b[0;34m(\u001b[0m\u001b[0mpull_news\u001b[0m\u001b[0;34m(\u001b[0m\u001b[0;34m\"TSLA\"\u001b[0m\u001b[0;34m,\u001b[0m \u001b[0mstart_date\u001b[0m\u001b[0;34m,\u001b[0m \u001b[0mend_date\u001b[0m\u001b[0;34m,\u001b[0m \u001b[0mheaders\u001b[0m\u001b[0;34m,\u001b[0m \u001b[0mnews_dict\u001b[0m\u001b[0;34m,\u001b[0m \u001b[0;36m10\u001b[0m\u001b[0;34m)\u001b[0m\u001b[0;34m)\u001b[0m\u001b[0;34m\u001b[0m\u001b[0;34m\u001b[0m\u001b[0m\n\u001b[0m\u001b[1;32m     18\u001b[0m \u001b[0;34m\u001b[0m\u001b[0m\n",
      "\u001b[0;32m/var/folders/hn/vdq8ffhj0zq9blr74w80pr180000gn/T/ipykernel_1168/3422141373.py\u001b[0m in \u001b[0;36mpull_news\u001b[0;34m(ticker, start_date, end_date, headers, news_dict, rate_limit)\u001b[0m\n\u001b[1;32m      5\u001b[0m         \u001b[0mprint\u001b[0m\u001b[0;34m(\u001b[0m\u001b[0mnews_dict\u001b[0m\u001b[0;34m)\u001b[0m\u001b[0;34m\u001b[0m\u001b[0;34m\u001b[0m\u001b[0m\n\u001b[1;32m      6\u001b[0m         \u001b[0murl\u001b[0m \u001b[0;34m=\u001b[0m \u001b[0;34mf'https://data.alpaca.markets/v1beta1/news?start={start_date}&end={end_date}&symbols={symbol}'\u001b[0m\u001b[0;34m\u001b[0m\u001b[0;34m\u001b[0m\u001b[0m\n\u001b[0;32m----> 7\u001b[0;31m         \u001b[0mresponse\u001b[0m \u001b[0;34m=\u001b[0m \u001b[0mrequests\u001b[0m\u001b[0;34m.\u001b[0m\u001b[0mget\u001b[0m\u001b[0;34m(\u001b[0m\u001b[0murl\u001b[0m\u001b[0;34m,\u001b[0m \u001b[0mheaders\u001b[0m\u001b[0;34m=\u001b[0m\u001b[0mheaders\u001b[0m\u001b[0;34m)\u001b[0m\u001b[0;34m\u001b[0m\u001b[0;34m\u001b[0m\u001b[0m\n\u001b[0m\u001b[1;32m      8\u001b[0m \u001b[0;31m#         print(f'________________________________Response: {response}_____________________________________')\u001b[0m\u001b[0;34m\u001b[0m\u001b[0;34m\u001b[0m\u001b[0m\n\u001b[1;32m      9\u001b[0m         \u001b[0mrate_limit\u001b[0m \u001b[0;34m-=\u001b[0m \u001b[0;36m1\u001b[0m\u001b[0;34m\u001b[0m\u001b[0;34m\u001b[0m\u001b[0m\n",
      "\u001b[0;32m~/opt/anaconda3/lib/python3.9/site-packages/requests/api.py\u001b[0m in \u001b[0;36mget\u001b[0;34m(url, params, **kwargs)\u001b[0m\n\u001b[1;32m     71\u001b[0m     \"\"\"\n\u001b[1;32m     72\u001b[0m \u001b[0;34m\u001b[0m\u001b[0m\n\u001b[0;32m---> 73\u001b[0;31m     \u001b[0;32mreturn\u001b[0m \u001b[0mrequest\u001b[0m\u001b[0;34m(\u001b[0m\u001b[0;34m\"get\"\u001b[0m\u001b[0;34m,\u001b[0m \u001b[0murl\u001b[0m\u001b[0;34m,\u001b[0m \u001b[0mparams\u001b[0m\u001b[0;34m=\u001b[0m\u001b[0mparams\u001b[0m\u001b[0;34m,\u001b[0m \u001b[0;34m**\u001b[0m\u001b[0mkwargs\u001b[0m\u001b[0;34m)\u001b[0m\u001b[0;34m\u001b[0m\u001b[0;34m\u001b[0m\u001b[0m\n\u001b[0m\u001b[1;32m     74\u001b[0m \u001b[0;34m\u001b[0m\u001b[0m\n\u001b[1;32m     75\u001b[0m \u001b[0;34m\u001b[0m\u001b[0m\n",
      "\u001b[0;32m~/opt/anaconda3/lib/python3.9/site-packages/requests/api.py\u001b[0m in \u001b[0;36mrequest\u001b[0;34m(method, url, **kwargs)\u001b[0m\n\u001b[1;32m     57\u001b[0m     \u001b[0;31m# cases, and look like a memory leak in others.\u001b[0m\u001b[0;34m\u001b[0m\u001b[0;34m\u001b[0m\u001b[0m\n\u001b[1;32m     58\u001b[0m     \u001b[0;32mwith\u001b[0m \u001b[0msessions\u001b[0m\u001b[0;34m.\u001b[0m\u001b[0mSession\u001b[0m\u001b[0;34m(\u001b[0m\u001b[0;34m)\u001b[0m \u001b[0;32mas\u001b[0m \u001b[0msession\u001b[0m\u001b[0;34m:\u001b[0m\u001b[0;34m\u001b[0m\u001b[0;34m\u001b[0m\u001b[0m\n\u001b[0;32m---> 59\u001b[0;31m         \u001b[0;32mreturn\u001b[0m \u001b[0msession\u001b[0m\u001b[0;34m.\u001b[0m\u001b[0mrequest\u001b[0m\u001b[0;34m(\u001b[0m\u001b[0mmethod\u001b[0m\u001b[0;34m=\u001b[0m\u001b[0mmethod\u001b[0m\u001b[0;34m,\u001b[0m \u001b[0murl\u001b[0m\u001b[0;34m=\u001b[0m\u001b[0murl\u001b[0m\u001b[0;34m,\u001b[0m \u001b[0;34m**\u001b[0m\u001b[0mkwargs\u001b[0m\u001b[0;34m)\u001b[0m\u001b[0;34m\u001b[0m\u001b[0;34m\u001b[0m\u001b[0m\n\u001b[0m\u001b[1;32m     60\u001b[0m \u001b[0;34m\u001b[0m\u001b[0m\n\u001b[1;32m     61\u001b[0m \u001b[0;34m\u001b[0m\u001b[0m\n",
      "\u001b[0;32m~/opt/anaconda3/lib/python3.9/site-packages/requests/sessions.py\u001b[0m in \u001b[0;36mrequest\u001b[0;34m(self, method, url, params, data, headers, cookies, files, auth, timeout, allow_redirects, proxies, hooks, stream, verify, cert, json)\u001b[0m\n\u001b[1;32m    585\u001b[0m         }\n\u001b[1;32m    586\u001b[0m         \u001b[0msend_kwargs\u001b[0m\u001b[0;34m.\u001b[0m\u001b[0mupdate\u001b[0m\u001b[0;34m(\u001b[0m\u001b[0msettings\u001b[0m\u001b[0;34m)\u001b[0m\u001b[0;34m\u001b[0m\u001b[0;34m\u001b[0m\u001b[0m\n\u001b[0;32m--> 587\u001b[0;31m         \u001b[0mresp\u001b[0m \u001b[0;34m=\u001b[0m \u001b[0mself\u001b[0m\u001b[0;34m.\u001b[0m\u001b[0msend\u001b[0m\u001b[0;34m(\u001b[0m\u001b[0mprep\u001b[0m\u001b[0;34m,\u001b[0m \u001b[0;34m**\u001b[0m\u001b[0msend_kwargs\u001b[0m\u001b[0;34m)\u001b[0m\u001b[0;34m\u001b[0m\u001b[0;34m\u001b[0m\u001b[0m\n\u001b[0m\u001b[1;32m    588\u001b[0m \u001b[0;34m\u001b[0m\u001b[0m\n\u001b[1;32m    589\u001b[0m         \u001b[0;32mreturn\u001b[0m \u001b[0mresp\u001b[0m\u001b[0;34m\u001b[0m\u001b[0;34m\u001b[0m\u001b[0m\n",
      "\u001b[0;32m~/opt/anaconda3/lib/python3.9/site-packages/requests/sessions.py\u001b[0m in \u001b[0;36msend\u001b[0;34m(self, request, **kwargs)\u001b[0m\n\u001b[1;32m    699\u001b[0m \u001b[0;34m\u001b[0m\u001b[0m\n\u001b[1;32m    700\u001b[0m         \u001b[0;31m# Send the request\u001b[0m\u001b[0;34m\u001b[0m\u001b[0;34m\u001b[0m\u001b[0m\n\u001b[0;32m--> 701\u001b[0;31m         \u001b[0mr\u001b[0m \u001b[0;34m=\u001b[0m \u001b[0madapter\u001b[0m\u001b[0;34m.\u001b[0m\u001b[0msend\u001b[0m\u001b[0;34m(\u001b[0m\u001b[0mrequest\u001b[0m\u001b[0;34m,\u001b[0m \u001b[0;34m**\u001b[0m\u001b[0mkwargs\u001b[0m\u001b[0;34m)\u001b[0m\u001b[0;34m\u001b[0m\u001b[0;34m\u001b[0m\u001b[0m\n\u001b[0m\u001b[1;32m    702\u001b[0m \u001b[0;34m\u001b[0m\u001b[0m\n\u001b[1;32m    703\u001b[0m         \u001b[0;31m# Total elapsed time of the request (approximately)\u001b[0m\u001b[0;34m\u001b[0m\u001b[0;34m\u001b[0m\u001b[0m\n",
      "\u001b[0;32m~/opt/anaconda3/lib/python3.9/site-packages/requests/adapters.py\u001b[0m in \u001b[0;36msend\u001b[0;34m(self, request, stream, timeout, verify, cert, proxies)\u001b[0m\n\u001b[1;32m    563\u001b[0m                 \u001b[0;32mraise\u001b[0m \u001b[0mSSLError\u001b[0m\u001b[0;34m(\u001b[0m\u001b[0me\u001b[0m\u001b[0;34m,\u001b[0m \u001b[0mrequest\u001b[0m\u001b[0;34m=\u001b[0m\u001b[0mrequest\u001b[0m\u001b[0;34m)\u001b[0m\u001b[0;34m\u001b[0m\u001b[0;34m\u001b[0m\u001b[0m\n\u001b[1;32m    564\u001b[0m \u001b[0;34m\u001b[0m\u001b[0m\n\u001b[0;32m--> 565\u001b[0;31m             \u001b[0;32mraise\u001b[0m \u001b[0mConnectionError\u001b[0m\u001b[0;34m(\u001b[0m\u001b[0me\u001b[0m\u001b[0;34m,\u001b[0m \u001b[0mrequest\u001b[0m\u001b[0;34m=\u001b[0m\u001b[0mrequest\u001b[0m\u001b[0;34m)\u001b[0m\u001b[0;34m\u001b[0m\u001b[0;34m\u001b[0m\u001b[0m\n\u001b[0m\u001b[1;32m    566\u001b[0m \u001b[0;34m\u001b[0m\u001b[0m\n\u001b[1;32m    567\u001b[0m         \u001b[0;32mexcept\u001b[0m \u001b[0mClosedPoolError\u001b[0m \u001b[0;32mas\u001b[0m \u001b[0me\u001b[0m\u001b[0;34m:\u001b[0m\u001b[0;34m\u001b[0m\u001b[0;34m\u001b[0m\u001b[0m\n",
      "\u001b[0;31mConnectionError\u001b[0m: HTTPSConnectionPool(host='data.alpaca.markets', port=443): Max retries exceeded with url: /v1beta1/news?start=2018-09-01T00:00:00Z&end=2022-09-30T11:59:59Z&symbols=SPY (Caused by NewConnectionError('<urllib3.connection.HTTPSConnection object at 0x7fd42a12f2e0>: Failed to establish a new connection: [Errno 8] nodename nor servname provided, or not known'))"
     ]
    }
   ],
   "source": [
    "\n",
    "start_date = \"2018-09-01T00:00:00Z\"\n",
    "end_date = \"2022-09-30T11:59:59Z\"\n",
    "news_dict = {\n",
    "    \"author\": [],\n",
    "    \"content\": [],\n",
    "    \"created_at\": [],\n",
    "    \"headline\": [],\n",
    "    \"id\": [],\n",
    "    \"source\": [],\n",
    "    \"summary\": [],\n",
    "    \"symbols\": [],\n",
    "    \"updated_at\": [],\n",
    "    \"url\": [],\n",
    "    \"requested_TICKER\": []\n",
    "}\n",
    "\n",
    "print(pull_news(\"TSLA\", start_date, end_date, headers, news_dict, 10))\n",
    "\n"
   ]
  },
  {
   "cell_type": "code",
   "execution_count": 9,
   "id": "b7b25535",
   "metadata": {},
   "outputs": [],
   "source": [
    "import pandas as pd\n",
    "\n",
    "SPY_names = pd.read_csv(\"/Users/austinpaxton/Documents/ML Bootcamp/Capstone/SPY_companies.csv\")"
   ]
  },
  {
   "cell_type": "code",
   "execution_count": 50,
   "id": "00c2845b",
   "metadata": {},
   "outputs": [
    {
     "ename": "NameError",
     "evalue": "name 'test_dict' is not defined",
     "output_type": "error",
     "traceback": [
      "\u001b[0;31m---------------------------------------------------------------------------\u001b[0m",
      "\u001b[0;31mNameError\u001b[0m                                 Traceback (most recent call last)",
      "\u001b[0;32m/var/folders/hn/vdq8ffhj0zq9blr74w80pr180000gn/T/ipykernel_1168/2253565635.py\u001b[0m in \u001b[0;36m<module>\u001b[0;34m\u001b[0m\n\u001b[0;32m----> 1\u001b[0;31m \u001b[0mtest_dict\u001b[0m\u001b[0;34m[\u001b[0m\u001b[0;34m\"test\"\u001b[0m\u001b[0;34m]\u001b[0m \u001b[0;34m=\u001b[0m \u001b[0;36m12\u001b[0m\u001b[0;34m\u001b[0m\u001b[0;34m\u001b[0m\u001b[0m\n\u001b[0m\u001b[1;32m      2\u001b[0m \u001b[0mprint\u001b[0m\u001b[0;34m(\u001b[0m\u001b[0mtest_dict\u001b[0m\u001b[0;34m)\u001b[0m\u001b[0;34m\u001b[0m\u001b[0;34m\u001b[0m\u001b[0m\n",
      "\u001b[0;31mNameError\u001b[0m: name 'test_dict' is not defined"
     ]
    }
   ],
   "source": []
  },
  {
   "cell_type": "code",
   "execution_count": null,
   "id": "47f51673",
   "metadata": {},
   "outputs": [],
   "source": []
  }
 ],
 "metadata": {
  "kernelspec": {
   "display_name": "Python 3 (ipykernel)",
   "language": "python",
   "name": "python3"
  },
  "language_info": {
   "codemirror_mode": {
    "name": "ipython",
    "version": 3
   },
   "file_extension": ".py",
   "mimetype": "text/x-python",
   "name": "python",
   "nbconvert_exporter": "python",
   "pygments_lexer": "ipython3",
   "version": "3.10.10"
  }
 },
 "nbformat": 4,
 "nbformat_minor": 5
}
